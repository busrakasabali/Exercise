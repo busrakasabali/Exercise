{
  "cells": [
    {
      "cell_type": "markdown",
      "metadata": {
        "id": "wctyUbEowOpm"
      },
      "source": [
        "# Tutorial 2 - Training and Tuning of Deep Learning Models in Python\n",
        "\n",
        "The lecture has introduced you to foundations of neural networks. Therefore, in today's tutorial notebook we will revisit the forward pass performed in shallow and deep neural networks on tabular data. This will help us understand the functionality behind **sklearn's MLPRegressor**, as well as which hyperparameters of neural networks can be tuned to improve their performance.\n",
        "\n",
        "Here is the outline of the notebook:\n",
        "*   Forward pass of shallow and deep neural networks in numpy (Demo).\n",
        "*   Implementation of two MLPRegressor models with varying depth using sklearn (Excercise 1).\n",
        "*   Tuning of MLPRegressor using Optuna (Excercise 2)."
      ]
    },
    {
      "cell_type": "code",
      "execution_count": 1,
      "metadata": {
        "id": "W74SiFcqwOpp"
      },
      "outputs": [],
      "source": [
        "import numpy as np\n",
        "import matplotlib.pyplot as plt\n",
        "import tensorflow as tf\n",
        "import pandas as pd"
      ]
    },
    {
      "cell_type": "markdown",
      "metadata": {
        "id": "Rc_VwXobwOps"
      },
      "source": [
        "## **1. Forward Pass of shallow and deep Neural Networks with Numpy** (DEMO)"
      ]
    },
    {
      "cell_type": "markdown",
      "metadata": {
        "id": "obKpJu2JwOpt"
      },
      "source": [
        "### **1.1. Forward Pass in Neural Networks with a single hidden Layer**"
      ]
    },
    {
      "cell_type": "markdown",
      "metadata": {
        "id": "FRxuilqNwOpt"
      },
      "source": [
        "First, let's revisit the forward pass in a shallow neural network, using the below illustration: <br>"
      ]
    },
    {
      "cell_type": "markdown",
      "metadata": {
        "id": "S5SXUpmkwOpu"
      },
      "source": [
        "![Shallow Neural Network](https://github.com/Humboldt-WI/demopy/raw/main/Shallow_Neural_Network_Forward_Pass.PNG)"
      ]
    },
    {
      "cell_type": "markdown",
      "metadata": {
        "id": "eTYr3DA1wOpv"
      },
      "source": [
        "This is a neural network with **<em>m</em>** input variables, which are fed to a single hidden layer with **<em>w</em>** = 2 units. The hidden layer makes use of the activation function **<em>g</em>** to transform the latent representation of the inputs nonlinearly. The output of the nonlinear transformation is then fed to the final layer, i.e., the prediction layer, which produces the estimates of the target variable **<em>y</em>**.<br>\n",
        "\n",
        "Now, imagine you have a batch of 20 samples with 5 predictor features and a single continuous target variable. You are tasked to implement the forward pass of the above-described neural network with numpy. First, we will simulate our batch of data by drawing samples from a standard normal distribution using numpy:"
      ]
    },
    {
      "cell_type": "code",
      "execution_count": 2,
      "metadata": {
        "colab": {
          "base_uri": "https://localhost:8080/"
        },
        "id": "K1SVAwXEwOpw",
        "outputId": "e3bbc97f-0ec4-4f94-d391-f361d4c5b05f"
      },
      "outputs": [
        {
          "output_type": "stream",
          "name": "stdout",
          "text": [
            "Shape of batch of simulated data:  (20, 5)\n"
          ]
        }
      ],
      "source": [
        "#Simulation of a batch of 20 samples with 5 features:\n",
        "w=2\n",
        "m=5\n",
        "num_samples=20\n",
        "data_batch=np.random.normal(size=m*num_samples,loc=0.0,scale=1.0).reshape(num_samples,m)\n",
        "#We create an artificial target variable using the exponential function in numpy:\n",
        "target=np.exp(np.dot(data_batch,np.random.normal(size=m).reshape(-1,1)))\n",
        "print('Shape of batch of simulated data: ',data_batch.shape)"
      ]
    },
    {
      "cell_type": "code",
      "source": [
        "np.dot"
      ],
      "metadata": {
        "colab": {
          "base_uri": "https://localhost:8080/"
        },
        "id": "JAfYqJ87xi27",
        "outputId": "56143014-ebe6-456d-bb46-5593f0aa58f4"
      },
      "execution_count": null,
      "outputs": [
        {
          "output_type": "execute_result",
          "data": {
            "text/plain": [
              "<function dot at 0x7cad50393c70>"
            ]
          },
          "metadata": {},
          "execution_count": 7
        }
      ]
    },
    {
      "cell_type": "markdown",
      "metadata": {
        "id": "BjdolbvswOpy"
      },
      "source": [
        "Next, we will initialize the trainable parameters of the hidden layer and the output layer of the shallow network. The shape of the weight matrices in the hidden layer  and the output layer are **<em>(m,w)</em>** and **<em>(w,1)</em>**. The shape of the bias weights is determined by the  number of units in each layer. Since one of the main advantages of using neural networks is their ability to approximate nonlinear relationships, we will define two nonlinear activation functions, i.e., ReLU and Tanh. We will use both to nonlinearly transform the latent feature space produced by the matrix multiplication of the network weights with the synthetic batch of data."
      ]
    },
    {
      "cell_type": "code",
      "execution_count": 3,
      "metadata": {
        "colab": {
          "base_uri": "https://localhost:8080/"
        },
        "id": "EX5Lyw-ewOpz",
        "outputId": "76f45ea1-f44d-4d16-d7aa-c4e049b13693"
      },
      "outputs": [
        {
          "output_type": "stream",
          "name": "stdout",
          "text": [
            "Shape of the trainable weight matrices of the shallow neural network:\n",
            "- W of hidden layer: (5, 2)\n",
            "- Bias of hidden layer: (2,) \n",
            "\n",
            "- W of output layer: (2, 1)\n",
            "- Bias of output layer: (1,) \n",
            "\n"
          ]
        }
      ],
      "source": [
        "w_hidden_layer=np.random.normal(size=m*w).reshape(m,w)\n",
        "bias_hidden_layer=np.random.normal(size=w)\n",
        "\n",
        "w_output_layer=np.random.normal(size=w).reshape(-1,1)\n",
        "bias_output_layer=np.random.normal(size=1)\n",
        "\n",
        "print('Shape of the trainable weight matrices of the shallow neural network:')\n",
        "print('- W of hidden layer:',w_hidden_layer.shape)\n",
        "print('- Bias of hidden layer:',bias_hidden_layer.shape,'\\n')\n",
        "print('- W of output layer:',w_output_layer.shape)\n",
        "print('- Bias of output layer:',bias_output_layer.shape,'\\n')"
      ]
    },
    {
      "cell_type": "code",
      "execution_count": 4,
      "metadata": {
        "colab": {
          "base_uri": "https://localhost:8080/"
        },
        "id": "8mjZfNZXwOp0",
        "outputId": "312a9948-0413-4f44-eaee-58184c6b9479"
      },
      "outputs": [
        {
          "output_type": "stream",
          "name": "stdout",
          "text": [
            "Shape of the linear latent representation of the input variables:  (20, 2)\n"
          ]
        }
      ],
      "source": [
        "#Linear latent feature space of inputs: generated with matrix multiplication,\n",
        "#we implement the latter with the function numpy.dot:\n",
        "linear_latent_representation=np.dot(data_batch,w_hidden_layer) + bias_hidden_layer\n",
        "print('Shape of the linear latent representation of the input variables: ',linear_latent_representation.shape)"
      ]
    },
    {
      "cell_type": "code",
      "source": [
        "linear_latent_representation"
      ],
      "metadata": {
        "colab": {
          "base_uri": "https://localhost:8080/"
        },
        "id": "PpBS-z5B0YrK",
        "outputId": "038b08ea-4d3b-4de9-de98-d35f00420eaf"
      },
      "execution_count": null,
      "outputs": [
        {
          "output_type": "execute_result",
          "data": {
            "text/plain": [
              "array([[ 1.89627434, -1.06413886],\n",
              "       [ 3.6897866 , -0.39801462],\n",
              "       [ 0.53858035, -1.74855917],\n",
              "       [ 1.60809604,  1.29915434],\n",
              "       [ 2.91671824, -1.02951529],\n",
              "       [ 2.89493853,  0.21551468],\n",
              "       [ 1.40332723,  0.13285476],\n",
              "       [ 2.75348811, -0.60078831],\n",
              "       [ 0.13695321, -1.13761092],\n",
              "       [ 1.48003174,  0.11549947],\n",
              "       [ 1.02488363,  0.13712645],\n",
              "       [ 1.65970245, -1.82478289],\n",
              "       [ 1.90125946, -3.12882269],\n",
              "       [ 3.05367003, -0.71072764],\n",
              "       [ 1.05470851, -1.05480379],\n",
              "       [ 1.50321963, -0.84333935],\n",
              "       [ 2.30169662,  0.72109693],\n",
              "       [ 0.48792708, -1.81690325],\n",
              "       [ 1.91629114, -2.73055519],\n",
              "       [ 0.77607484, -0.09578844]])"
            ]
          },
          "metadata": {},
          "execution_count": 16
        }
      ]
    },
    {
      "cell_type": "markdown",
      "metadata": {
        "id": "RLKeVXcawOp1"
      },
      "source": [
        "The matrix multiplication of the weights with the input variables produces a linear latent representation consisting of 2 units for each of the 20 synthetic data samples. The bias weights array has only 2 trainable weights. At first sight, the addition of one-dimensional array to a two-dimensional matrix with the shape (20,2) seems conceptually impossible in the context of linear algebra. However, due to broadcasting, numpy efficiently adds the bias weights to each row of the latent representation. For more details on broadcasting, we refer the reader to: https://numpy.org/doc/stable/user/basics.broadcasting.html. <br>\n",
        "\n",
        "Next, we create a well-documented function implementing ReLU and Tanh:"
      ]
    },
    {
      "cell_type": "code",
      "execution_count": 5,
      "metadata": {
        "id": "YthbZv8nwOp2"
      },
      "outputs": [],
      "source": [
        "def nonlinear_func(x:np.ndarray,\n",
        "                   activation_name:str)->np.ndarray:\n",
        "    \"\"\"Computes ReLU or Tanh transformations of the inputs.\n",
        "\n",
        "    Parameters:\n",
        "    ----------\n",
        "    x: np.ndarray\n",
        "        The linearly transformed inputs.\n",
        "    activation_name: str\n",
        "        The name of the activation function, i.e., ReLU or Tanh.\n",
        "\n",
        "    Returns:\n",
        "    ----------\n",
        "    nonlinear_x: np.ndarray\n",
        "        The nonlinearly transformed inputs.\n",
        "\n",
        "    Raises:\n",
        "    ----------\n",
        "    ValueError: If specified activation_name is not in the list [ReLU, Tanh].\n",
        "    \"\"\"\n",
        "\n",
        "    if activation_name not in ['ReLU','Tanh']:\n",
        "        raise ValueError(f'The currently specified activation function {activation_name} is not in the list of supported nonlinearities.')\n",
        "\n",
        "    if activation_name=='Tanh':\n",
        "        nonlinear_x=np.tanh(x)\n",
        "    else:\n",
        "        nonlinear_x=x*(x>0.0)\n",
        "\n",
        "    return nonlinear_x"
      ]
    },
    {
      "cell_type": "markdown",
      "metadata": {
        "id": "WcDRxmPEwOp3"
      },
      "source": [
        "As you can see in the above function, we specify the type of the input parameters and the type of the output values of our function. Also, we provide a brief summary of what the function does, what the input parameters and the return value represent. Proper documentation of your functions improves the readability of your code a lot especially for someone, who is examining your code for the first time. For more details on the annotation of python functions, we refer the reader to: https://peps.python.org/pep-3107/#fundamentals-of-function-annotations. <br>\n",
        "\n",
        "Next, we will pass the linearly weighted inputs through our nonlinear activations, and we will plot the distribution of the resulting values:"
      ]
    },
    {
      "cell_type": "code",
      "execution_count": 6,
      "metadata": {
        "colab": {
          "base_uri": "https://localhost:8080/",
          "height": 307
        },
        "id": "PFmVPBISwOp4",
        "outputId": "5f7c3270-f1af-433e-f169-50ded1cbb0c2"
      },
      "outputs": [
        {
          "output_type": "display_data",
          "data": {
            "text/plain": [
              "<Figure size 1000x300 with 2 Axes>"
            ],
            "image/png": "[encoded data removed]"
          },
          "metadata": {}
        }
      ],
      "source": [
        "relu_latent=nonlinear_func(x=linear_latent_representation,activation_name='ReLU')\n",
        "tanh_latent=nonlinear_func(x=linear_latent_representation,activation_name='Tanh')\n",
        "\n",
        "fig,ax=plt.subplots(nrows=1,ncols=2,figsize=(10,3))\n",
        "ax[0].hist(relu_latent.flatten())\n",
        "ax[0].set_title('ReLU latent Feature Space')\n",
        "\n",
        "ax[1].hist(tanh_latent.flatten())\n",
        "ax[1].set_title('Tanh latent Feature Space')\n",
        "\n",
        "fig.tight_layout()\n",
        "plt.show()\n",
        "plt.close()"
      ]
    },
    {
      "cell_type": "markdown",
      "metadata": {
        "id": "x0GLFraYwOp5"
      },
      "source": [
        "The above histogram plots highlight the difference in the distribution of the latent features. While ReLU produces a right-skewed representation of the inputs, Tanh generates a bimodal latent feature space. Generally, the ReLU activation is prefered over Tanh in neural networks, especially in deep neural models. However, Tanh could also be applied in rather shallow neural models. The main limitation of Tanh, and generally speaking of activations with a lower and an upper bound, is that output values very close to the saturation regions, i.e., -1 and 1 in case of Tanh, receive almost no gradients in the backward pass. Therefore, bounded activation functions suffer from the vanishing gradients problem.<br>\n",
        "\n",
        "Next, we produce the predictions of our synthetic target:  "
      ]
    },
    {
      "cell_type": "code",
      "execution_count": 7,
      "metadata": {
        "colab": {
          "base_uri": "https://localhost:8080/"
        },
        "id": "6VaLNjPEwOp6",
        "outputId": "19d40fc8-df2b-4bb8-994a-cc44a9f128b0"
      },
      "outputs": [
        {
          "output_type": "stream",
          "name": "stdout",
          "text": [
            "Predictions shape:  (20, 1)\n"
          ]
        }
      ],
      "source": [
        "relu_predictions=np.dot(relu_latent,w_output_layer)+bias_output_layer\n",
        "tanh_predictions=np.dot(tanh_latent,w_output_layer)+bias_output_layer\n",
        "print('Predictions shape: ',relu_predictions.shape)"
      ]
    },
    {
      "cell_type": "markdown",
      "metadata": {
        "id": "dA3k4BfTwOp7"
      },
      "source": [
        "To evaluate the quality of the estimations, we define a function computing the mean-squared error:"
      ]
    },
    {
      "cell_type": "code",
      "execution_count": 8,
      "metadata": {
        "id": "7IHpTU35wOp8"
      },
      "outputs": [],
      "source": [
        "def mse(true_target:np.ndarray,\n",
        "        predictions:np.ndarray)->np.float64:\n",
        "    '''\n",
        "    Computes the mean-squared error (MSE) between the true values of the target variable and the predictions of an ML model.\n",
        "\n",
        "    Parameters:\n",
        "    -----------\n",
        "    true_target: np.ndarray\n",
        "        The true values.\n",
        "    predictions: np.ndarray\n",
        "        The estimation of the target values.\n",
        "\n",
        "    Returns:\n",
        "    -----------\n",
        "    mse_score: np.float\n",
        "        The error between the true values and the predictions measured in terms of MSE.\n",
        "    '''\n",
        "    mse_score=np.mean((true_target-predictions)**2)\n",
        "    return mse_score"
      ]
    },
    {
      "cell_type": "code",
      "execution_count": 9,
      "metadata": {
        "colab": {
          "base_uri": "https://localhost:8080/"
        },
        "id": "pjpOsd-1wOp9",
        "outputId": "47a5880b-165d-4185-85be-8861919e93bb"
      },
      "outputs": [
        {
          "output_type": "stream",
          "name": "stdout",
          "text": [
            "MSE from ReLU-Network:  5641.326\n",
            "MSE from Tanh-Network:  5665.608\n"
          ]
        }
      ],
      "source": [
        "print('MSE from ReLU-Network: ',round(mse(true_target=target,predictions=relu_predictions),3))\n",
        "print('MSE from Tanh-Network: ',round(mse(true_target=target,predictions=tanh_predictions),3))"
      ]
    },
    {
      "cell_type": "markdown",
      "metadata": {
        "id": "OXyN4wKkwOp_"
      },
      "source": [
        "So far we have performed the forward pass of a neural network with a single hidden layer. Without any training of the two versions of the neural network the results in terms of MSE seem pretty close to each other, as both versions use the same randomly initialized weights in the hidden layer. We will use our mse function in Section 2 and Section 3, where we will compare the performance of two trained neural networks and we will implement neural network tuning, respectively."
      ]
    },
    {
      "cell_type": "markdown",
      "metadata": {
        "id": "8sA0JECYwOqB"
      },
      "source": [
        "### **1.1. Forward Pass in deep Neural Networks with several hidden Layers**"
      ]
    },
    {
      "cell_type": "markdown",
      "metadata": {
        "id": "HSQI6vkbwOqC"
      },
      "source": [
        "Before we move on to more coding, let's recap the forward pass in deep neural networks: <br>"
      ]
    },
    {
      "cell_type": "markdown",
      "metadata": {
        "id": "NNBSMmjhwOqC"
      },
      "source": [
        "![Deep Neural Network](https://github.com/Humboldt-WI/demopy/raw/main/Deep_Neural_Networks_Forward_Pass.PNG)"
      ]
    },
    {
      "cell_type": "markdown",
      "metadata": {
        "id": "yNVJPX2nwOqF"
      },
      "source": [
        "The above visualization shows that in a deep neural network the layers are structured in a chain, where the output of each layer is fed as an input to every following layer. By \"fed\", we mean that we compute the matrix multiplication between the latent representation of the previous layer and the trainable weights of the current layer, add the biases and apply a nonlinear activation function. Therefore, the output shape of each hidden layer determines the shape of the weight matrices of every following hidden layer.<br>\n",
        "\n",
        "Below, we create a function, which computes the forward pass of an arbitrarily ReLU-based deep neural network implemented in numpy:"
      ]
    },
    {
      "cell_type": "code",
      "execution_count": 10,
      "metadata": {
        "id": "4k2aM8MHwOqG"
      },
      "outputs": [],
      "source": [
        "def deep_neural_net(hidden_units:list,\n",
        "                    inputs:np.ndarray,\n",
        "                    print_layer_shape:bool)->np.ndarray:\n",
        "    '''\n",
        "    Computes the forward pass with an arbitrarily deep feedforward neural network.\n",
        "\n",
        "    Parameters:\n",
        "    -----------\n",
        "    hidden_units: list\n",
        "        A list of hidden units, which also determines the number of hidden layers in the network.\n",
        "    inputs: np.ndarray\n",
        "        A two-dimensional numpy matrix containing the data samples in the rows, and the predictor variables in the columns.\n",
        "    print_layer_shape: bool\n",
        "        Determines whether to print the shape of the latent representation produced by each hidden layer and the final prediction layer.\n",
        "\n",
        "    Returns:\n",
        "    -----------\n",
        "    predictions: np.ndarray\n",
        "        The estimation of the target.\n",
        "    '''\n",
        "\n",
        "    current_linear_representation=inputs.copy()\n",
        "    if print_layer_shape==True:\n",
        "        print('Inputs shape: ',inputs.shape,'\\n')\n",
        "\n",
        "\n",
        "    for nr_units_idx in range(0,len(hidden_units)):\n",
        "        if nr_units_idx==0:\n",
        "            current_weights=np.random.normal(size=inputs.shape[1]*hidden_units[nr_units_idx]).reshape(inputs.shape[1],hidden_units[nr_units_idx])\n",
        "        else:\n",
        "            current_weights=np.random.normal(size=previous_matrix_shape[1]*hidden_units[nr_units_idx]).reshape(previous_matrix_shape[1],hidden_units[nr_units_idx])\n",
        "        current_bias_weights=np.random.normal(size=hidden_units[nr_units_idx])\n",
        "\n",
        "        #At each hidden layer we overwrite the linear representation passed to the nonlinearity:\n",
        "        current_linear_representation=np.dot(current_linear_representation,current_weights)+current_bias_weights\n",
        "\n",
        "        #ReLU-based transformation:\n",
        "        current_nonlinear_representation=nonlinear_func(x=current_linear_representation,\n",
        "                                                        activation_name='ReLU')\n",
        "        previous_matrix_shape=current_weights.shape\n",
        "\n",
        "        if print_layer_shape==True:\n",
        "            print('Output shape of ',(nr_units_idx+1),'.hidden layer: ',current_nonlinear_representation.shape,'\\n')\n",
        "\n",
        "    #Compute the predictions:\n",
        "    output_layer_weights=np.random.normal(size=current_nonlinear_representation.shape[1]).reshape(-1,1)\n",
        "    bias_output_layer=np.random.normal(size=1).reshape(-1,1)\n",
        "\n",
        "    predictions=np.dot(current_nonlinear_representation,output_layer_weights)+bias_output_layer\n",
        "    if print_layer_shape==True:\n",
        "        print('Output shape of prediction layer: ',predictions.shape,'\\n')\n",
        "    return predictions"
      ]
    },
    {
      "cell_type": "code",
      "execution_count": 11,
      "metadata": {
        "colab": {
          "base_uri": "https://localhost:8080/"
        },
        "id": "AY728NVXwOqI",
        "outputId": "ff938f1d-27ad-4894-dfb0-28f575025ce2"
      },
      "outputs": [
        {
          "output_type": "stream",
          "name": "stdout",
          "text": [
            "Inputs shape:  (20, 5) \n",
            "\n",
            "Output shape of  1 .hidden layer:  (20, 100) \n",
            "\n",
            "Output shape of  2 .hidden layer:  (20, 50) \n",
            "\n",
            "Output shape of  3 .hidden layer:  (20, 10) \n",
            "\n",
            "Output shape of prediction layer:  (20, 1) \n",
            "\n"
          ]
        }
      ],
      "source": [
        "predictions_deep_net=deep_neural_net(hidden_units=[100,50,10],\n",
        "                                     inputs=data_batch,\n",
        "                                     print_layer_shape=True)"
      ]
    },
    {
      "cell_type": "markdown",
      "metadata": {
        "id": "dy3YbnAxwOqJ"
      },
      "source": [
        "## **2. Implementation of deep feed-forward regression neural networks using sklearn.** <br>(Excercise 1)"
      ]
    },
    {
      "cell_type": "markdown",
      "metadata": {
        "id": "NLAs-wWbwOqJ"
      },
      "source": [
        "In this section, first, we will import a house pricing dataset from tensorflow, i.e., boston housing dataset. Afterward, we will examine some basic statistical characteristics of the features. Once the data is rescaled, we will train an MLPRegressor from sklearn to forecast the median price values of boston houses (our target variable)."
      ]
    },
    {
      "cell_type": "code",
      "execution_count": 12,
      "metadata": {
        "colab": {
          "base_uri": "https://localhost:8080/"
        },
        "id": "LrLD-cqFwOqK",
        "outputId": "59e30b97-a73a-44f8-fb42-8fa016d06a6e"
      },
      "outputs": [
        {
          "output_type": "stream",
          "name": "stdout",
          "text": [
            "Downloading data from https://storage.googleapis.com/tensorflow/tf-keras-datasets/boston_housing.npz\n",
            "\u001b[1m57026/57026\u001b[0m \u001b[32m━━━━━━━━━━━━━━━━━━━━\u001b[0m\u001b[37m\u001b[0m \u001b[1m0s\u001b[0m 0us/step\n",
            "Shape of train data: (404, 13) \n",
            "Shape of test data: (102, 13)\n"
          ]
        }
      ],
      "source": [
        "# this will import and split the data 80-20% by default:\n",
        "(x_train, y_train), (x_test, y_test) = tf.keras.datasets.boston_housing.load_data()\n",
        "\n",
        "print('Shape of train data:',x_train.shape,\n",
        "'\\nShape of test data:', x_test.shape)"
      ]
    },
    {
      "cell_type": "markdown",
      "metadata": {
        "id": "YZooVEaQwOqK"
      },
      "source": [
        "The descriptions of the features are the following (more details about this dataset can be found in [http://lib.stat.cmu.edu/datasets/boston](http://lib.stat.cmu.edu/datasets/boston))<br>\n",
        "| # | Variable | Description |\n",
        "|---|---|---|\n",
        "| 1 | CRIM | per capita crime rate by town |\n",
        "| 2 | ZN | proportion of residential land zoned for lots over 25,000 sq.ft. |\n",
        "| 3 | INDUS | proportion of non-retail business acres per town |\n",
        "| 4 | CHAS | Charles River dummy variable (= 1 if tract bounds river; 0 otherwise) |\n",
        "| 5 | NOX | nitric oxides concentration (parts per 10 million) |\n",
        "| 6 | RM | average number of rooms per dwelling |\n",
        "| 7 | AGE | proportion of owner-occupied units built prior to 1940 |\n",
        "| 8 | DIS | weighted distances to five Boston employment centres |\n",
        "| 9 | RAD | index of accessibility to radial highways |\n",
        "| 10 | TAX | full-value property-tax rate per $10,000 |\n",
        "| 11 | PTRATIO | pupil-teacher ratio by town |\n",
        "| 12 | B | 1000(Bk - 0.63)^2 where Bk is the proportion of blacks by town |\n",
        "| 13 | LSTAT | % lower status of the population |\n",
        "\n",
        "So, we have 404 samples to train and 102 to test, each with 13 numerical features. The target is the median values of homes. Let's have a quick look at the predictor features:"
      ]
    },
    {
      "cell_type": "code",
      "execution_count": 13,
      "metadata": {
        "colab": {
          "base_uri": "https://localhost:8080/",
          "height": 297
        },
        "id": "tccSJgd6wOqL",
        "outputId": "188b4c41-ba79-402f-d5b3-b43bd12daa6a"
      },
      "outputs": [
        {
          "output_type": "execute_result",
          "data": {
            "text/plain": [
              "               0           1           2           3           4           5   \\\n",
              "count  404.000000  404.000000  404.000000  404.000000  404.000000  404.000000   \n",
              "mean     3.745111   11.480198   11.104431    0.061881    0.557356    6.267082   \n",
              "std      9.240734   23.767711    6.811308    0.241238    0.117293    0.709788   \n",
              "min      0.006320    0.000000    0.460000    0.000000    0.385000    3.561000   \n",
              "25%      0.081437    0.000000    5.130000    0.000000    0.453000    5.874750   \n",
              "50%      0.268880    0.000000    9.690000    0.000000    0.538000    6.198500   \n",
              "75%      3.674808   12.500000   18.100000    0.000000    0.631000    6.609000   \n",
              "max     88.976200  100.000000   27.740000    1.000000    0.871000    8.725000   \n",
              "\n",
              "               6           7           8           9           10          11  \\\n",
              "count  404.000000  404.000000  404.000000  404.000000  404.000000  404.000000   \n",
              "mean    69.010644    3.740271    9.440594  405.898515   18.475990  354.783168   \n",
              "std     27.940665    2.030215    8.698360  166.374543    2.200382   94.111148   \n",
              "min      2.900000    1.129600    1.000000  188.000000   12.600000    0.320000   \n",
              "25%     45.475000    2.077100    4.000000  279.000000   17.225000  374.672500   \n",
              "50%     78.500000    3.142300    5.000000  330.000000   19.100000  391.250000   \n",
              "75%     94.100000    5.118000   24.000000  666.000000   20.200000  396.157500   \n",
              "max    100.000000   10.710300   24.000000  711.000000   22.000000  396.900000   \n",
              "\n",
              "               12  \n",
              "count  404.000000  \n",
              "mean    12.740817  \n",
              "std      7.254545  \n",
              "min      1.730000  \n",
              "25%      6.890000  \n",
              "50%     11.395000  \n",
              "75%     17.092500  \n",
              "max     37.970000  "
            ],
            "text/html": [
              "\n",
              "  <div id=\"df-14727c30-4a1a-4a9f-8b59-3aacd09121b6\" class=\"colab-df-container\">\n",
              "    <div>\n",
              "<style scoped>\n",
              "    .dataframe tbody tr th:only-of-type {\n",
              "        vertical-align: middle;\n",
              "    }\n",
              "\n",
              "    .dataframe tbody tr th {\n",
              "        vertical-align: top;\n",
              "    }\n",
              "\n",
              "    .dataframe thead th {\n",
              "        text-align: right;\n",
              "    }\n",
              "</style>\n",
              "<table border=\"1\" class=\"dataframe\">\n",
              "  <thead>\n",
              "    <tr style=\"text-align: right;\">\n",
              "      <th></th>\n",
              "      <th>0</th>\n",
              "      <th>1</th>\n",
              "      <th>2</th>\n",
              "      <th>3</th>\n",
              "      <th>4</th>\n",
              "      <th>5</th>\n",
              "      <th>6</th>\n",
              "      <th>7</th>\n",
              "      <th>8</th>\n",
              "      <th>9</th>\n",
              "      <th>10</th>\n",
              "      <th>11</th>\n",
              "      <th>12</th>\n",
              "    </tr>\n",
              "  </thead>\n",
              "  <tbody>\n",
              "    <tr>\n",
              "      <th>count</th>\n",
              "      <td>404.000000</td>\n",
              "      <td>404.000000</td>\n",
              "      <td>404.000000</td>\n",
              "      <td>404.000000</td>\n",
              "      <td>404.000000</td>\n",
              "      <td>404.000000</td>\n",
              "      <td>404.000000</td>\n",
              "      <td>404.000000</td>\n",
              "      <td>404.000000</td>\n",
              "      <td>404.000000</td>\n",
              "      <td>404.000000</td>\n",
              "      <td>404.000000</td>\n",
              "      <td>404.000000</td>\n",
              "    </tr>\n",
              "    <tr>\n",
              "      <th>mean</th>\n",
              "      <td>3.745111</td>\n",
              "      <td>11.480198</td>\n",
              "      <td>11.104431</td>\n",
              "      <td>0.061881</td>\n",
              "      <td>0.557356</td>\n",
              "      <td>6.267082</td>\n",
              "      <td>69.010644</td>\n",
              "      <td>3.740271</td>\n",
              "      <td>9.440594</td>\n",
              "      <td>405.898515</td>\n",
              "      <td>18.475990</td>\n",
              "      <td>354.783168</td>\n",
              "      <td>12.740817</td>\n",
              "    </tr>\n",
              "    <tr>\n",
              "      <th>std</th>\n",
              "      <td>9.240734</td>\n",
              "      <td>23.767711</td>\n",
              "      <td>6.811308</td>\n",
              "      <td>0.241238</td>\n",
              "      <td>0.117293</td>\n",
              "      <td>0.709788</td>\n",
              "      <td>27.940665</td>\n",
              "      <td>2.030215</td>\n",
              "      <td>8.698360</td>\n",
              "      <td>166.374543</td>\n",
              "      <td>2.200382</td>\n",
              "      <td>94.111148</td>\n",
              "      <td>7.254545</td>\n",
              "    </tr>\n",
              "    <tr>\n",
              "      <th>min</th>\n",
              "      <td>0.006320</td>\n",
              "      <td>0.000000</td>\n",
              "      <td>0.460000</td>\n",
              "      <td>0.000000</td>\n",
              "      <td>0.385000</td>\n",
              "      <td>3.561000</td>\n",
              "      <td>2.900000</td>\n",
              "      <td>1.129600</td>\n",
              "      <td>1.000000</td>\n",
              "      <td>188.000000</td>\n",
              "      <td>12.600000</td>\n",
              "      <td>0.320000</td>\n",
              "      <td>1.730000</td>\n",
              "    </tr>\n",
              "    <tr>\n",
              "      <th>25%</th>\n",
              "      <td>0.081437</td>\n",
              "      <td>0.000000</td>\n",
              "      <td>5.130000</td>\n",
              "      <td>0.000000</td>\n",
              "      <td>0.453000</td>\n",
              "      <td>5.874750</td>\n",
              "      <td>45.475000</td>\n",
              "      <td>2.077100</td>\n",
              "      <td>4.000000</td>\n",
              "      <td>279.000000</td>\n",
              "      <td>17.225000</td>\n",
              "      <td>374.672500</td>\n",
              "      <td>6.890000</td>\n",
              "    </tr>\n",
              "    <tr>\n",
              "      <th>50%</th>\n",
              "      <td>0.268880</td>\n",
              "      <td>0.000000</td>\n",
              "      <td>9.690000</td>\n",
              "      <td>0.000000</td>\n",
              "      <td>0.538000</td>\n",
              "      <td>6.198500</td>\n",
              "      <td>78.500000</td>\n",
              "      <td>3.142300</td>\n",
              "      <td>5.000000</td>\n",
              "      <td>330.000000</td>\n",
              "      <td>19.100000</td>\n",
              "      <td>391.250000</td>\n",
              "      <td>11.395000</td>\n",
              "    </tr>\n",
              "    <tr>\n",
              "      <th>75%</th>\n",
              "      <td>3.674808</td>\n",
              "      <td>12.500000</td>\n",
              "      <td>18.100000</td>\n",
              "      <td>0.000000</td>\n",
              "      <td>0.631000</td>\n",
              "      <td>6.609000</td>\n",
              "      <td>94.100000</td>\n",
              "      <td>5.118000</td>\n",
              "      <td>24.000000</td>\n",
              "      <td>666.000000</td>\n",
              "      <td>20.200000</td>\n",
              "      <td>396.157500</td>\n",
              "      <td>17.092500</td>\n",
              "    </tr>\n",
              "    <tr>\n",
              "      <th>max</th>\n",
              "      <td>88.976200</td>\n",
              "      <td>100.000000</td>\n",
              "      <td>27.740000</td>\n",
              "      <td>1.000000</td>\n",
              "      <td>0.871000</td>\n",
              "      <td>8.725000</td>\n",
              "      <td>100.000000</td>\n",
              "      <td>10.710300</td>\n",
              "      <td>24.000000</td>\n",
              "      <td>711.000000</td>\n",
              "      <td>22.000000</td>\n",
              "      <td>396.900000</td>\n",
              "      <td>37.970000</td>\n",
              "    </tr>\n",
              "  </tbody>\n",
              "</table>\n",
              "</div>\n",
              "    <div class=\"colab-df-buttons\">\n",
              "\n",
              "  <div class=\"colab-df-container\">\n",
              "    <button class=\"colab-df-convert\" onclick=\"convertToInteractive('df-14727c30-4a1a-4a9f-8b59-3aacd09121b6')\"\n",
              "            title=\"Convert this dataframe to an interactive table.\"\n",
              "            style=\"display:none;\">\n",
              "\n",
              "  <svg xmlns=\"http://www.w3.org/2000/svg\" height=\"24px\" viewBox=\"0 -960 960 960\">\n",
              "    <path d=\"M120-120v-720h720v720H120Zm60-500h600v-160H180v160Zm220 220h160v-160H400v160Zm0 220h160v-160H400v160ZM180-400h160v-160H180v160Zm440 0h160v-160H620v160ZM180-180h160v-160H180v160Zm440 0h160v-160H620v160Z\"/>\n",
              "  </svg>\n",
              "    </button>\n",
              "\n",
              "  <style>\n",
              "    .colab-df-container {\n",
              "      display:flex;\n",
              "      gap: 12px;\n",
              "    }\n",
              "\n",
              "    .colab-df-convert {\n",
              "      background-color: #E8F0FE;\n",
              "      border: none;\n",
              "      border-radius: 50%;\n",
              "      cursor: pointer;\n",
              "      display: none;\n",
              "      fill: #1967D2;\n",
              "      height: 32px;\n",
              "      padding: 0 0 0 0;\n",
              "      width: 32px;\n",
              "    }\n",
              "\n",
              "    .colab-df-convert:hover {\n",
              "      background-color: #E2EBFA;\n",
              "      box-shadow: 0px 1px 2px rgba(60, 64, 67, 0.3), 0px 1px 3px 1px rgba(60, 64, 67, 0.15);\n",
              "      fill: #174EA6;\n",
              "    }\n",
              "\n",
              "    .colab-df-buttons div {\n",
              "      margin-bottom: 4px;\n",
              "    }\n",
              "\n",
              "    [theme=dark] .colab-df-convert {\n",
              "      background-color: #3B4455;\n",
              "      fill: #D2E3FC;\n",
              "    }\n",
              "\n",
              "    [theme=dark] .colab-df-convert:hover {\n",
              "      background-color: #434B5C;\n",
              "      box-shadow: 0px 1px 3px 1px rgba(0, 0, 0, 0.15);\n",
              "      filter: drop-shadow(0px 1px 2px rgba(0, 0, 0, 0.3));\n",
              "      fill: #FFFFFF;\n",
              "    }\n",
              "  </style>\n",
              "\n",
              "    <script>\n",
              "      const buttonEl =\n",
              "        document.querySelector('#df-14727c30-4a1a-4a9f-8b59-3aacd09121b6 button.colab-df-convert');\n",
              "      buttonEl.style.display =\n",
              "        google.colab.kernel.accessAllowed ? 'block' : 'none';\n",
              "\n",
              "      async function convertToInteractive(key) {\n",
              "        const element = document.querySelector('#df-14727c30-4a1a-4a9f-8b59-3aacd09121b6');\n",
              "        const dataTable =\n",
              "          await google.colab.kernel.invokeFunction('convertToInteractive',\n",
              "                                                    [key], {});\n",
              "        if (!dataTable) return;\n",
              "\n",
              "        const docLinkHtml = 'Like what you see? Visit the ' +\n",
              "          '<a target=\"_blank\" href=https://colab.research.google.com/notebooks/data_table.ipynb>data table notebook</a>'\n",
              "          + ' to learn more about interactive tables.';\n",
              "        element.innerHTML = '';\n",
              "        dataTable['output_type'] = 'display_data';\n",
              "        await google.colab.output.renderOutput(dataTable, element);\n",
              "        const docLink = document.createElement('div');\n",
              "        docLink.innerHTML = docLinkHtml;\n",
              "        element.appendChild(docLink);\n",
              "      }\n",
              "    </script>\n",
              "  </div>\n",
              "\n",
              "\n",
              "    <div id=\"df-db30bd0d-d791-4103-a443-8130077332e1\">\n",
              "      <button class=\"colab-df-quickchart\" onclick=\"quickchart('df-db30bd0d-d791-4103-a443-8130077332e1')\"\n",
              "                title=\"Suggest charts\"\n",
              "                style=\"display:none;\">\n",
              "\n",
              "<svg xmlns=\"http://www.w3.org/2000/svg\" height=\"24px\"viewBox=\"0 0 24 24\"\n",
              "     width=\"24px\">\n",
              "    <g>\n",
              "        <path d=\"M19 3H5c-1.1 0-2 .9-2 2v14c0 1.1.9 2 2 2h14c1.1 0 2-.9 2-2V5c0-1.1-.9-2-2-2zM9 17H7v-7h2v7zm4 0h-2V7h2v10zm4 0h-2v-4h2v4z\"/>\n",
              "    </g>\n",
              "</svg>\n",
              "      </button>\n",
              "\n",
              "<style>\n",
              "  .colab-df-quickchart {\n",
              "      --bg-color: #E8F0FE;\n",
              "      --fill-color: #1967D2;\n",
              "      --hover-bg-color: #E2EBFA;\n",
              "      --hover-fill-color: #174EA6;\n",
              "      --disabled-fill-color: #AAA;\n",
              "      --disabled-bg-color: #DDD;\n",
              "  }\n",
              "\n",
              "  [theme=dark] .colab-df-quickchart {\n",
              "      --bg-color: #3B4455;\n",
              "      --fill-color: #D2E3FC;\n",
              "      --hover-bg-color: #434B5C;\n",
              "      --hover-fill-color: #FFFFFF;\n",
              "      --disabled-bg-color: #3B4455;\n",
              "      --disabled-fill-color: #666;\n",
              "  }\n",
              "\n",
              "  .colab-df-quickchart {\n",
              "    background-color: var(--bg-color);\n",
              "    border: none;\n",
              "    border-radius: 50%;\n",
              "    cursor: pointer;\n",
              "    display: none;\n",
              "    fill: var(--fill-color);\n",
              "    height: 32px;\n",
              "    padding: 0;\n",
              "    width: 32px;\n",
              "  }\n",
              "\n",
              "  .colab-df-quickchart:hover {\n",
              "    background-color: var(--hover-bg-color);\n",
              "    box-shadow: 0 1px 2px rgba(60, 64, 67, 0.3), 0 1px 3px 1px rgba(60, 64, 67, 0.15);\n",
              "    fill: var(--button-hover-fill-color);\n",
              "  }\n",
              "\n",
              "  .colab-df-quickchart-complete:disabled,\n",
              "  .colab-df-quickchart-complete:disabled:hover {\n",
              "    background-color: var(--disabled-bg-color);\n",
              "    fill: var(--disabled-fill-color);\n",
              "    box-shadow: none;\n",
              "  }\n",
              "\n",
              "  .colab-df-spinner {\n",
              "    border: 2px solid var(--fill-color);\n",
              "    border-color: transparent;\n",
              "    border-bottom-color: var(--fill-color);\n",
              "    animation:\n",
              "      spin 1s steps(1) infinite;\n",
              "  }\n",
              "\n",
              "  @keyframes spin {\n",
              "    0% {\n",
              "      border-color: transparent;\n",
              "      border-bottom-color: var(--fill-color);\n",
              "      border-left-color: var(--fill-color);\n",
              "    }\n",
              "    20% {\n",
              "      border-color: transparent;\n",
              "      border-left-color: var(--fill-color);\n",
              "      border-top-color: var(--fill-color);\n",
              "    }\n",
              "    30% {\n",
              "      border-color: transparent;\n",
              "      border-left-color: var(--fill-color);\n",
              "      border-top-color: var(--fill-color);\n",
              "      border-right-color: var(--fill-color);\n",
              "    }\n",
              "    40% {\n",
              "      border-color: transparent;\n",
              "      border-right-color: var(--fill-color);\n",
              "      border-top-color: var(--fill-color);\n",
              "    }\n",
              "    60% {\n",
              "      border-color: transparent;\n",
              "      border-right-color: var(--fill-color);\n",
              "    }\n",
              "    80% {\n",
              "      border-color: transparent;\n",
              "      border-right-color: var(--fill-color);\n",
              "      border-bottom-color: var(--fill-color);\n",
              "    }\n",
              "    90% {\n",
              "      border-color: transparent;\n",
              "      border-bottom-color: var(--fill-color);\n",
              "    }\n",
              "  }\n",
              "</style>\n",
              "\n",
              "      <script>\n",
              "        async function quickchart(key) {\n",
              "          const quickchartButtonEl =\n",
              "            document.querySelector('#' + key + ' button');\n",
              "          quickchartButtonEl.disabled = true;  // To prevent multiple clicks.\n",
              "          quickchartButtonEl.classList.add('colab-df-spinner');\n",
              "          try {\n",
              "            const charts = await google.colab.kernel.invokeFunction(\n",
              "                'suggestCharts', [key], {});\n",
              "          } catch (error) {\n",
              "            console.error('Error during call to suggestCharts:', error);\n",
              "          }\n",
              "          quickchartButtonEl.classList.remove('colab-df-spinner');\n",
              "          quickchartButtonEl.classList.add('colab-df-quickchart-complete');\n",
              "        }\n",
              "        (() => {\n",
              "          let quickchartButtonEl =\n",
              "            document.querySelector('#df-db30bd0d-d791-4103-a443-8130077332e1 button');\n",
              "          quickchartButtonEl.style.display =\n",
              "            google.colab.kernel.accessAllowed ? 'block' : 'none';\n",
              "        })();\n",
              "      </script>\n",
              "    </div>\n",
              "\n",
              "    </div>\n",
              "  </div>\n"
            ],
            "application/vnd.google.colaboratory.intrinsic+json": {
              "type": "dataframe",
              "summary": "{\n  \"name\": \"pd\",\n  \"rows\": 8,\n  \"fields\": [\n    {\n      \"column\": 0,\n      \"properties\": {\n        \"dtype\": \"number\",\n        \"std\": 140.78052543783602,\n        \"min\": 0.00632,\n        \"max\": 404.0,\n        \"num_unique_values\": 8,\n        \"samples\": [\n          3.74511056930693,\n          0.26888,\n          404.0\n        ],\n        \"semantic_type\": \"\",\n        \"description\": \"\"\n      }\n    },\n    {\n      \"column\": 1,\n      \"properties\": {\n        \"dtype\": \"number\",\n        \"std\": 139.3944709236412,\n        \"min\": 0.0,\n        \"max\": 404.0,\n        \"num_unique_values\": 6,\n        \"samples\": [\n          404.0,\n          11.48019801980198,\n          100.0\n        ],\n        \"semantic_type\": \"\",\n        \"description\": \"\"\n      }\n    },\n    {\n      \"column\": 2,\n      \"properties\": {\n        \"dtype\": \"number\",\n        \"std\": 139.09801474127028,\n        \"min\": 0.46,\n        \"max\": 404.0,\n        \"num_unique_values\": 8,\n        \"samples\": [\n          11.104430693069308,\n          9.69,\n          404.0\n        ],\n        \"semantic_type\": \"\",\n        \"description\": \"\"\n      }\n    },\n    {\n      \"column\": 3,\n      \"properties\": {\n        \"dtype\": \"number\",\n        \"std\": 142.77016229078674,\n        \"min\": 0.0,\n        \"max\": 404.0,\n        \"num_unique_values\": 5,\n        \"samples\": [\n          0.06188118811881188,\n          1.0,\n          0.24123838018034013\n        ],\n        \"semantic_type\": \"\",\n        \"description\": \"\"\n      }\n    },\n    {\n      \"column\": 4,\n      \"properties\": {\n        \"dtype\": \"number\",\n        \"std\": 142.6562946714264,\n        \"min\": 0.11729310146793247,\n        \"max\": 404.0,\n        \"num_unique_values\": 8,\n        \"samples\": [\n          0.5573559405940595,\n          0.538,\n          404.0\n        ],\n        \"semantic_type\": \"\",\n        \"description\": \"\"\n      }\n    },\n    {\n      \"column\": 5,\n      \"properties\": {\n        \"dtype\": \"number\",\n        \"std\": 140.93907669044222,\n        \"min\": 0.709787621233784,\n        \"max\": 404.0,\n        \"num_unique_values\": 8,\n        \"samples\": [\n          6.267081683168317,\n          6.1985,\n          404.0\n        ],\n        \"semantic_type\": \"\",\n        \"description\": \"\"\n      }\n    },\n    {\n      \"column\": 6,\n      \"properties\": {\n        \"dtype\": \"number\",\n        \"std\": 126.1559342567476,\n        \"min\": 2.9,\n        \"max\": 404.0,\n        \"num_unique_values\": 8,\n        \"samples\": [\n          69.01064356435644,\n          78.5,\n          404.0\n        ],\n        \"semantic_type\": \"\",\n        \"description\": \"\"\n      }\n    },\n    {\n      \"column\": 7,\n      \"properties\": {\n        \"dtype\": \"number\",\n        \"std\": 141.45575737592145,\n        \"min\": 1.1296,\n        \"max\": 404.0,\n        \"num_unique_values\": 8,\n        \"samples\": [\n          3.7402707920792078,\n          3.1422999999999996,\n          404.0\n        ],\n        \"semantic_type\": \"\",\n        \"description\": \"\"\n      }\n    },\n    {\n      \"column\": 8,\n      \"properties\": {\n        \"dtype\": \"number\",\n        \"std\": 139.26239844042084,\n        \"min\": 1.0,\n        \"max\": 404.0,\n        \"num_unique_values\": 7,\n        \"samples\": [\n          404.0,\n          9.44059405940594,\n          5.0\n        ],\n        \"semantic_type\": \"\",\n        \"description\": \"\"\n      }\n    },\n    {\n      \"column\": 9,\n      \"properties\": {\n        \"dtype\": \"number\",\n        \"std\": 202.23202752863463,\n        \"min\": 166.37454262751075,\n        \"max\": 711.0,\n        \"num_unique_values\": 8,\n        \"samples\": [\n          405.8985148514852,\n          330.0,\n          404.0\n        ],\n        \"semantic_type\": \"\",\n        \"description\": \"\"\n      }\n    },\n    {\n      \"column\": 10,\n      \"properties\": {\n        \"dtype\": \"number\",\n        \"std\": 137.3307439338442,\n        \"min\": 2.2003818211189334,\n        \"max\": 404.0,\n        \"num_unique_values\": 8,\n        \"samples\": [\n          18.4759900990099,\n          19.1,\n          404.0\n        ],\n        \"semantic_type\": \"\",\n        \"description\": \"\"\n      }\n    },\n    {\n      \"column\": 11,\n      \"properties\": {\n        \"dtype\": \"number\",\n        \"std\": 159.70300528611634,\n        \"min\": 0.32,\n        \"max\": 404.0,\n        \"num_unique_values\": 8,\n        \"samples\": [\n          354.7831683168317,\n          391.25,\n          404.0\n        ],\n        \"semantic_type\": \"\",\n        \"description\": \"\"\n      }\n    },\n    {\n      \"column\": 12,\n      \"properties\": {\n        \"dtype\": \"number\",\n        \"std\": 138.46656489750998,\n        \"min\": 1.73,\n        \"max\": 404.0,\n        \"num_unique_values\": 8,\n        \"samples\": [\n          12.740816831683167,\n          11.395,\n          404.0\n        ],\n        \"semantic_type\": \"\",\n        \"description\": \"\"\n      }\n    }\n  ]\n}"
            }
          },
          "metadata": {},
          "execution_count": 13
        }
      ],
      "source": [
        "pd.DataFrame(x_train).describe()"
      ]
    },
    {
      "cell_type": "code",
      "source": [
        "pd.DataFrame(x_train).isna().sum().sum()"
      ],
      "metadata": {
        "colab": {
          "base_uri": "https://localhost:8080/"
        },
        "id": "MEsKUWYFB8r0",
        "outputId": "6d26f3d8-d2b7-4180-fd93-c36c57cfa79e"
      },
      "execution_count": 14,
      "outputs": [
        {
          "output_type": "execute_result",
          "data": {
            "text/plain": [
              "np.int64(0)"
            ]
          },
          "metadata": {},
          "execution_count": 14
        }
      ]
    },
    {
      "cell_type": "markdown",
      "metadata": {
        "id": "2Dm2lFy_wOqL"
      },
      "source": [
        "The desriptive statistics show that the is a big variation in the mean and the standard deviation of the predictor variables. This indicates that the input features have different scales. For this reason, we will standardize our test dataset based on the statistics computed on the rescaled train dataset. With data rescaling, we ensure that no predictor dominates the input feature space due to varying variable scale. This, in turn, improves the stability of the training process, and facilitates faster convergence. The StandardScaler can be imported from sklearn.preprocessing: https://scikit-learn.org/stable/modules/generated/sklearn.preprocessing.StandardScaler.html. Take a look at the code example provided under the link, and standardize the boston housing dataset:"
      ]
    },
    {
      "cell_type": "code",
      "execution_count": 15,
      "metadata": {
        "colab": {
          "base_uri": "https://localhost:8080/"
        },
        "id": "glFd6luVwOqM",
        "outputId": "69586ddd-144f-4d1b-9d6a-a17b225d5010"
      },
      "outputs": [
        {
          "output_type": "stream",
          "name": "stdout",
          "text": [
            "           0         1         2         3         4         5         6   \\\n",
            "0   -0.272246 -0.483615 -0.435762 -0.256833 -0.165227 -0.176443  0.813062   \n",
            "1   -0.403427  2.991784 -1.333912 -0.256833 -1.215182  1.894346 -1.910361   \n",
            "2    0.124940 -0.483615  1.028326 -0.256833  0.628642 -1.829688  1.110488   \n",
            "3   -0.401494 -0.483615 -0.869402 -0.256833 -0.361560 -0.324558 -1.236672   \n",
            "4   -0.005634 -0.483615  1.028326 -0.256833  1.328612  0.153642  0.694808   \n",
            "..        ...       ...       ...       ...       ...       ...       ...   \n",
            "399 -0.381973 -0.483615 -0.616568 -0.256833 -0.933487 -0.938177 -0.251223   \n",
            "400 -0.388221  0.358906 -0.609218 -0.256833 -0.796907 -0.038202 -1.888860   \n",
            "401 -0.402030  0.990797 -0.741515 -0.256833 -1.019702 -0.333021 -1.638018   \n",
            "402 -0.172920 -0.483615  1.245881 -0.256833  2.677335 -0.787241  1.056737   \n",
            "403 -0.404226  2.043948 -1.201615 -0.256833 -1.334689  0.475263 -1.799274   \n",
            "\n",
            "           7         8         9         10        11        12  \n",
            "0    0.116698 -0.626249 -0.595170  1.148500  0.448077  0.825220  \n",
            "1    1.247585 -0.856463 -0.348433 -1.718189  0.431906 -1.329202  \n",
            "2   -1.187439  1.675886  1.565287  0.784476  0.220617 -1.308500  \n",
            "3    1.107180 -0.511142 -1.094663  0.784476  0.448077 -0.652926  \n",
            "4   -0.578572  1.675886  1.565287  0.784476  0.389882  0.263497  \n",
            "..        ...       ...       ...       ...       ...       ...  \n",
            "399  1.157680 -0.741356 -1.040501 -0.262093  0.448077  0.477421  \n",
            "400  0.339660 -0.741356 -1.100681  0.056428  0.448077 -0.848908  \n",
            "401  1.430403 -0.971569 -0.613224 -0.717123  0.079439 -0.677769  \n",
            "402 -1.044075 -0.511142 -0.017443 -1.718189 -0.987644  0.420835  \n",
            "403  1.222729 -0.971569 -0.847926 -1.308662  0.233171 -1.153923  \n",
            "\n",
            "[404 rows x 13 columns]\n",
            "          0     1      2    3       4      5      6       7     8      9   \\\n",
            "0    1.23247   0.0   8.14  0.0  0.5380  6.142   91.7  3.9769   4.0  307.0   \n",
            "1    0.02177  82.5   2.03  0.0  0.4150  7.610   15.7  6.2700   2.0  348.0   \n",
            "2    4.89822   0.0  18.10  0.0  0.6310  4.970  100.0  1.3325  24.0  666.0   \n",
            "3    0.03961   0.0   5.19  0.0  0.5150  6.037   34.5  5.9853   5.0  224.0   \n",
            "4    3.69311   0.0  18.10  0.0  0.7130  6.376   88.4  2.5671  24.0  666.0   \n",
            "..       ...   ...    ...  ...     ...    ...    ...     ...   ...    ...   \n",
            "399  0.21977   0.0   6.91  0.0  0.4480  5.602   62.0  6.0877   3.0  233.0   \n",
            "400  0.16211  20.0   6.96  0.0  0.4640  6.240   16.3  4.4290   3.0  223.0   \n",
            "401  0.03466  35.0   6.06  0.0  0.4379  6.031   23.3  6.6407   1.0  304.0   \n",
            "402  2.14918   0.0  19.58  0.0  0.8710  5.709   98.5  1.6232   5.0  403.0   \n",
            "403  0.01439  60.0   2.93  0.0  0.4010  6.604   18.8  6.2196   1.0  265.0   \n",
            "\n",
            "       10      11     12  \n",
            "0    21.0  396.90  18.72  \n",
            "1    14.7  395.38   3.11  \n",
            "2    20.2  375.52   3.26  \n",
            "3    20.2  396.90   8.01  \n",
            "4    20.2  391.43  14.65  \n",
            "..    ...     ...    ...  \n",
            "399  17.9  396.90  16.20  \n",
            "400  18.6  396.90   6.59  \n",
            "401  16.9  362.25   7.83  \n",
            "402  14.7  261.95  15.79  \n",
            "403  15.6  376.70   4.38  \n",
            "\n",
            "[404 rows x 13 columns]\n"
          ]
        }
      ],
      "source": [
        "from sklearn.preprocessing import StandardScaler\n",
        "\n",
        "#Data rescaling:\n",
        "\n",
        "scaler = StandardScaler()\n",
        "scaler.fit(x_train)\n",
        "\n",
        "#Creating a new rescaled data set with standardscalar\n",
        "x_train_rescaled = scaler.fit_transform(x_train)\n",
        "print(pd.DataFrame(x_train_rescaled))\n",
        "\n",
        "#Visualization of real x_train values in tabular format\n",
        "print(pd.DataFrame(x_train))"
      ]
    },
    {
      "cell_type": "markdown",
      "metadata": {
        "id": "qV3s6-LHwOqM"
      },
      "source": [
        "Next, we plot the distribution of the target variable on the train set, and examine whether it is also necessary to standardize the target in addition to the predictor variables:"
      ]
    },
    {
      "cell_type": "code",
      "execution_count": 16,
      "metadata": {
        "colab": {
          "base_uri": "https://localhost:8080/",
          "height": 744
        },
        "id": "Kt21lfcWwOqM",
        "outputId": "b6ec6b18-0039-4779-c0ed-ff36db0a3dcd"
      },
      "outputs": [
        {
          "output_type": "stream",
          "name": "stdout",
          "text": [
            "mean of train values:  0    22.39505\n",
            "dtype: float64\n"
          ]
        },
        {
          "output_type": "execute_result",
          "data": {
            "text/plain": [
              "                0\n",
              "count  404.000000\n",
              "mean    22.395050\n",
              "std      9.210442\n",
              "min      5.000000\n",
              "25%     16.675000\n",
              "50%     20.750000\n",
              "75%     24.800000\n",
              "max     50.000000"
            ],
            "text/html": [
              "\n",
              "  <div id=\"df-4121883e-865a-4abe-8dc5-4325ea626038\" class=\"colab-df-container\">\n",
              "    <div>\n",
              "<style scoped>\n",
              "    .dataframe tbody tr th:only-of-type {\n",
              "        vertical-align: middle;\n",
              "    }\n",
              "\n",
              "    .dataframe tbody tr th {\n",
              "        vertical-align: top;\n",
              "    }\n",
              "\n",
              "    .dataframe thead th {\n",
              "        text-align: right;\n",
              "    }\n",
              "</style>\n",
              "<table border=\"1\" class=\"dataframe\">\n",
              "  <thead>\n",
              "    <tr style=\"text-align: right;\">\n",
              "      <th></th>\n",
              "      <th>0</th>\n",
              "    </tr>\n",
              "  </thead>\n",
              "  <tbody>\n",
              "    <tr>\n",
              "      <th>count</th>\n",
              "      <td>404.000000</td>\n",
              "    </tr>\n",
              "    <tr>\n",
              "      <th>mean</th>\n",
              "      <td>22.395050</td>\n",
              "    </tr>\n",
              "    <tr>\n",
              "      <th>std</th>\n",
              "      <td>9.210442</td>\n",
              "    </tr>\n",
              "    <tr>\n",
              "      <th>min</th>\n",
              "      <td>5.000000</td>\n",
              "    </tr>\n",
              "    <tr>\n",
              "      <th>25%</th>\n",
              "      <td>16.675000</td>\n",
              "    </tr>\n",
              "    <tr>\n",
              "      <th>50%</th>\n",
              "      <td>20.750000</td>\n",
              "    </tr>\n",
              "    <tr>\n",
              "      <th>75%</th>\n",
              "      <td>24.800000</td>\n",
              "    </tr>\n",
              "    <tr>\n",
              "      <th>max</th>\n",
              "      <td>50.000000</td>\n",
              "    </tr>\n",
              "  </tbody>\n",
              "</table>\n",
              "</div>\n",
              "    <div class=\"colab-df-buttons\">\n",
              "\n",
              "  <div class=\"colab-df-container\">\n",
              "    <button class=\"colab-df-convert\" onclick=\"convertToInteractive('df-4121883e-865a-4abe-8dc5-4325ea626038')\"\n",
              "            title=\"Convert this dataframe to an interactive table.\"\n",
              "            style=\"display:none;\">\n",
              "\n",
              "  <svg xmlns=\"http://www.w3.org/2000/svg\" height=\"24px\" viewBox=\"0 -960 960 960\">\n",
              "    <path d=\"M120-120v-720h720v720H120Zm60-500h600v-160H180v160Zm220 220h160v-160H400v160Zm0 220h160v-160H400v160ZM180-400h160v-160H180v160Zm440 0h160v-160H620v160ZM180-180h160v-160H180v160Zm440 0h160v-160H620v160Z\"/>\n",
              "  </svg>\n",
              "    </button>\n",
              "\n",
              "  <style>\n",
              "    .colab-df-container {\n",
              "      display:flex;\n",
              "      gap: 12px;\n",
              "    }\n",
              "\n",
              "    .colab-df-convert {\n",
              "      background-color: #E8F0FE;\n",
              "      border: none;\n",
              "      border-radius: 50%;\n",
              "      cursor: pointer;\n",
              "      display: none;\n",
              "      fill: #1967D2;\n",
              "      height: 32px;\n",
              "      padding: 0 0 0 0;\n",
              "      width: 32px;\n",
              "    }\n",
              "\n",
              "    .colab-df-convert:hover {\n",
              "      background-color: #E2EBFA;\n",
              "      box-shadow: 0px 1px 2px rgba(60, 64, 67, 0.3), 0px 1px 3px 1px rgba(60, 64, 67, 0.15);\n",
              "      fill: #174EA6;\n",
              "    }\n",
              "\n",
              "    .colab-df-buttons div {\n",
              "      margin-bottom: 4px;\n",
              "    }\n",
              "\n",
              "    [theme=dark] .colab-df-convert {\n",
              "      background-color: #3B4455;\n",
              "      fill: #D2E3FC;\n",
              "    }\n",
              "\n",
              "    [theme=dark] .colab-df-convert:hover {\n",
              "      background-color: #434B5C;\n",
              "      box-shadow: 0px 1px 3px 1px rgba(0, 0, 0, 0.15);\n",
              "      filter: drop-shadow(0px 1px 2px rgba(0, 0, 0, 0.3));\n",
              "      fill: #FFFFFF;\n",
              "    }\n",
              "  </style>\n",
              "\n",
              "    <script>\n",
              "      const buttonEl =\n",
              "        document.querySelector('#df-4121883e-865a-4abe-8dc5-4325ea626038 button.colab-df-convert');\n",
              "      buttonEl.style.display =\n",
              "        google.colab.kernel.accessAllowed ? 'block' : 'none';\n",
              "\n",
              "      async function convertToInteractive(key) {\n",
              "        const element = document.querySelector('#df-4121883e-865a-4abe-8dc5-4325ea626038');\n",
              "        const dataTable =\n",
              "          await google.colab.kernel.invokeFunction('convertToInteractive',\n",
              "                                                    [key], {});\n",
              "        if (!dataTable) return;\n",
              "\n",
              "        const docLinkHtml = 'Like what you see? Visit the ' +\n",
              "          '<a target=\"_blank\" href=https://colab.research.google.com/notebooks/data_table.ipynb>data table notebook</a>'\n",
              "          + ' to learn more about interactive tables.';\n",
              "        element.innerHTML = '';\n",
              "        dataTable['output_type'] = 'display_data';\n",
              "        await google.colab.output.renderOutput(dataTable, element);\n",
              "        const docLink = document.createElement('div');\n",
              "        docLink.innerHTML = docLinkHtml;\n",
              "        element.appendChild(docLink);\n",
              "      }\n",
              "    </script>\n",
              "  </div>\n",
              "\n",
              "\n",
              "    <div id=\"df-eda88694-9714-40fb-b82d-ed31deb89d1e\">\n",
              "      <button class=\"colab-df-quickchart\" onclick=\"quickchart('df-eda88694-9714-40fb-b82d-ed31deb89d1e')\"\n",
              "                title=\"Suggest charts\"\n",
              "                style=\"display:none;\">\n",
              "\n",
              "<svg xmlns=\"http://www.w3.org/2000/svg\" height=\"24px\"viewBox=\"0 0 24 24\"\n",
              "     width=\"24px\">\n",
              "    <g>\n",
              "        <path d=\"M19 3H5c-1.1 0-2 .9-2 2v14c0 1.1.9 2 2 2h14c1.1 0 2-.9 2-2V5c0-1.1-.9-2-2-2zM9 17H7v-7h2v7zm4 0h-2V7h2v10zm4 0h-2v-4h2v4z\"/>\n",
              "    </g>\n",
              "</svg>\n",
              "      </button>\n",
              "\n",
              "<style>\n",
              "  .colab-df-quickchart {\n",
              "      --bg-color: #E8F0FE;\n",
              "      --fill-color: #1967D2;\n",
              "      --hover-bg-color: #E2EBFA;\n",
              "      --hover-fill-color: #174EA6;\n",
              "      --disabled-fill-color: #AAA;\n",
              "      --disabled-bg-color: #DDD;\n",
              "  }\n",
              "\n",
              "  [theme=dark] .colab-df-quickchart {\n",
              "      --bg-color: #3B4455;\n",
              "      --fill-color: #D2E3FC;\n",
              "      --hover-bg-color: #434B5C;\n",
              "      --hover-fill-color: #FFFFFF;\n",
              "      --disabled-bg-color: #3B4455;\n",
              "      --disabled-fill-color: #666;\n",
              "  }\n",
              "\n",
              "  .colab-df-quickchart {\n",
              "    background-color: var(--bg-color);\n",
              "    border: none;\n",
              "    border-radius: 50%;\n",
              "    cursor: pointer;\n",
              "    display: none;\n",
              "    fill: var(--fill-color);\n",
              "    height: 32px;\n",
              "    padding: 0;\n",
              "    width: 32px;\n",
              "  }\n",
              "\n",
              "  .colab-df-quickchart:hover {\n",
              "    background-color: var(--hover-bg-color);\n",
              "    box-shadow: 0 1px 2px rgba(60, 64, 67, 0.3), 0 1px 3px 1px rgba(60, 64, 67, 0.15);\n",
              "    fill: var(--button-hover-fill-color);\n",
              "  }\n",
              "\n",
              "  .colab-df-quickchart-complete:disabled,\n",
              "  .colab-df-quickchart-complete:disabled:hover {\n",
              "    background-color: var(--disabled-bg-color);\n",
              "    fill: var(--disabled-fill-color);\n",
              "    box-shadow: none;\n",
              "  }\n",
              "\n",
              "  .colab-df-spinner {\n",
              "    border: 2px solid var(--fill-color);\n",
              "    border-color: transparent;\n",
              "    border-bottom-color: var(--fill-color);\n",
              "    animation:\n",
              "      spin 1s steps(1) infinite;\n",
              "  }\n",
              "\n",
              "  @keyframes spin {\n",
              "    0% {\n",
              "      border-color: transparent;\n",
              "      border-bottom-color: var(--fill-color);\n",
              "      border-left-color: var(--fill-color);\n",
              "    }\n",
              "    20% {\n",
              "      border-color: transparent;\n",
              "      border-left-color: var(--fill-color);\n",
              "      border-top-color: var(--fill-color);\n",
              "    }\n",
              "    30% {\n",
              "      border-color: transparent;\n",
              "      border-left-color: var(--fill-color);\n",
              "      border-top-color: var(--fill-color);\n",
              "      border-right-color: var(--fill-color);\n",
              "    }\n",
              "    40% {\n",
              "      border-color: transparent;\n",
              "      border-right-color: var(--fill-color);\n",
              "      border-top-color: var(--fill-color);\n",
              "    }\n",
              "    60% {\n",
              "      border-color: transparent;\n",
              "      border-right-color: var(--fill-color);\n",
              "    }\n",
              "    80% {\n",
              "      border-color: transparent;\n",
              "      border-right-color: var(--fill-color);\n",
              "      border-bottom-color: var(--fill-color);\n",
              "    }\n",
              "    90% {\n",
              "      border-color: transparent;\n",
              "      border-bottom-color: var(--fill-color);\n",
              "    }\n",
              "  }\n",
              "</style>\n",
              "\n",
              "      <script>\n",
              "        async function quickchart(key) {\n",
              "          const quickchartButtonEl =\n",
              "            document.querySelector('#' + key + ' button');\n",
              "          quickchartButtonEl.disabled = true;  // To prevent multiple clicks.\n",
              "          quickchartButtonEl.classList.add('colab-df-spinner');\n",
              "          try {\n",
              "            const charts = await google.colab.kernel.invokeFunction(\n",
              "                'suggestCharts', [key], {});\n",
              "          } catch (error) {\n",
              "            console.error('Error during call to suggestCharts:', error);\n",
              "          }\n",
              "          quickchartButtonEl.classList.remove('colab-df-spinner');\n",
              "          quickchartButtonEl.classList.add('colab-df-quickchart-complete');\n",
              "        }\n",
              "        (() => {\n",
              "          let quickchartButtonEl =\n",
              "            document.querySelector('#df-eda88694-9714-40fb-b82d-ed31deb89d1e button');\n",
              "          quickchartButtonEl.style.display =\n",
              "            google.colab.kernel.accessAllowed ? 'block' : 'none';\n",
              "        })();\n",
              "      </script>\n",
              "    </div>\n",
              "\n",
              "    </div>\n",
              "  </div>\n"
            ],
            "application/vnd.google.colaboratory.intrinsic+json": {
              "type": "dataframe",
              "summary": "{\n  \"name\": \"pd\",\n  \"rows\": 8,\n  \"fields\": [\n    {\n      \"column\": 0,\n      \"properties\": {\n        \"dtype\": \"number\",\n        \"std\": 135.98757013638672,\n        \"min\": 5.0,\n        \"max\": 404.0,\n        \"num_unique_values\": 8,\n        \"samples\": [\n          22.395049504950492,\n          20.75,\n          404.0\n        ],\n        \"semantic_type\": \"\",\n        \"description\": \"\"\n      }\n    }\n  ]\n}"
            }
          },
          "metadata": {},
          "execution_count": 16
        },
        {
          "output_type": "display_data",
          "data": {
            "text/plain": [
              "<Figure size 640x480 with 1 Axes>"
            ],
            "image/png": "[encoded data removed]"
          },
          "metadata": {}
        }
      ],
      "source": [
        "#Plotting the distribution of target train values with a histogram from matplotlib.pyplot (imported as plt):\n",
        "plt.hist(y_train, bins=25)\n",
        "print('mean of train values: ', pd.DataFrame(y_train).mean())\n",
        "\n",
        "pd.DataFrame(y_train).describe()"
      ]
    },
    {
      "cell_type": "markdown",
      "metadata": {
        "id": "J2j2hOizwOqN"
      },
      "source": [
        "Now that we are completely done with the data preprocessing, we move on to training MLPRegressor() from sklearn.neural_network: https://scikit-learn.org/stable/modules/generated/sklearn.neural_network.MLPRegressor.html. After examining the possible hyperparameters, which can be specified in MLPRegressor(), we will train two neural models. The latter should use the Adam optimizer with the learning rate=0.001. Additionally, the first neural network should have a single Tanh-based hidden layer with 10 units, while the second network should apply ReLU in two hidden layers with the number of units [10,5]. Once the training process is complete, we will compare the performance of the two models on the test set using MSE. We defined the latter in a function in the first part of the notebook (the demo showing the forward passes). If you re-run the models several times, do you observe differences in the results? If yes, then why?"
      ]
    },
    {
      "cell_type": "code",
      "execution_count": 17,
      "metadata": {
        "colab": {
          "base_uri": "https://localhost:8080/"
        },
        "id": "izy5gel8wOqN",
        "outputId": "186e2fb5-78fc-4231-888a-d710d314fe49"
      },
      "outputs": [
        {
          "output_type": "stream",
          "name": "stderr",
          "text": [
            "/usr/local/lib/python3.11/dist-packages/sklearn/neural_network/_multilayer_perceptron.py:691: ConvergenceWarning: Stochastic Optimizer: Maximum iterations (200) reached and the optimization hasn't converged yet.\n",
            "  warnings.warn(\n"
          ]
        },
        {
          "output_type": "stream",
          "name": "stdout",
          "text": [
            "377.7582969641819\n",
            "205.14943407409314\n"
          ]
        },
        {
          "output_type": "stream",
          "name": "stderr",
          "text": [
            "/usr/local/lib/python3.11/dist-packages/sklearn/neural_network/_multilayer_perceptron.py:691: ConvergenceWarning: Stochastic Optimizer: Maximum iterations (200) reached and the optimization hasn't converged yet.\n",
            "  warnings.warn(\n"
          ]
        }
      ],
      "source": [
        "from sklearn.neural_network import MLPRegressor\n",
        "\n",
        "#Your implementation of the MLPRegressors:\n",
        "tanh_MLP= MLPRegressor(hidden_layer_sizes=(10),\n",
        "                       activation='tanh',\n",
        "                       solver='adam',\n",
        "                       learning_rate_init=0.001)\n",
        "relu_MLP=MLPRegressor(hidden_layer_sizes=(10,5),\n",
        "                      activation='relu',\n",
        "                      solver='adam',\n",
        "                      learning_rate_init=0.001)\n",
        "\n",
        "tanh_MLP.fit(x_train_rescaled,y_train)\n",
        "relu_MLP.fit(x_train_rescaled,y_train)\n",
        "\n",
        "x_test_rescaled = scaler.fit_transform(x_test)\n",
        "\n",
        "print(np.mean((tanh_MLP.predict(x_test_rescaled)-y_test)**2))\n",
        "print(np.mean((relu_MLP.predict(x_test_rescaled)-y_test)**2))"
      ]
    },
    {
      "cell_type": "markdown",
      "metadata": {
        "id": "jAbJye56wOqN"
      },
      "source": [
        "## **3. Hyperparameter Tuning using Optuna.** <br>(Excercise 2)"
      ]
    },
    {
      "cell_type": "markdown",
      "metadata": {
        "id": "VW2h7jlDwOqQ"
      },
      "source": [
        "Optuna represents an automatic hyperparameter optimization software framework, which supports multiple samplers, including the Tree-Parzen Estimator (TPE). This name implies a tree-structured search space, i.e., a search space that includes some conditional parameters, and use Parzen estimators such as kernel density estimators (KDEs). In a nutshell, TPE models the probability distribution of good and bad hyperparameter configurations, and then uses that to guide the search, i.e., to achieve a balance between exploration (trying new areas) and exploitation (focusing on promising regions).<br>\n",
        "\n",
        "Before we move on with the encoding of the search space using optuna, take a look at some code examples under the link: https://optuna.org/#code_examples. The hyperparameter tuning with optuna consists mainly of 5 aspects:\n",
        "- the definition of an objective function, which encodes the potentially conditional search space.\n",
        "- the creation of a study with optuna using a specific sampler, e.g., TPE. The study object should also  <br>\n",
        "  receive the direction for the optimization of the chosen metric, i.e., maximize accuracy or minimize an error metric.\n",
        "- the optimization of the hyperparameters for a pre-defined number of trials based on a score computed on the validation set.\n",
        "- extraction of the best hyperparameter configuration, and application of the best performing model on the test set.\n",
        "\n",
        "Next, we will reserve the last 104 samples from our train dataset for validation purposes, and we will define the following search space in Optuna's objective function:\n",
        "- for a maximum of 3 hidden layers sample values in [10,200] with stepsize=10. For deeper hidden layers allow optuna to sample also 0 units, indicating the network is not grown deeper.\n",
        "- Optimizer: ['adam','sgd']\n",
        "- Learning_Rate: [0.0001,0.001] with stepsize=0.0001\n",
        "- Activation=['identity', 'logistic', 'tanh', 'relu']\n",
        "\n",
        "Additionally, the alpha parameter, i.e., the L2 regularization coefficient, is set to the rather high value of 0.01 during the tuning process to avoid overfitting."
      ]
    },
    {
      "cell_type": "code",
      "execution_count": null,
      "metadata": {
        "id": "m26j_H7SwOqQ"
      },
      "outputs": [],
      "source": [
        "!pip install optuna\n",
        "import optuna\n",
        "\n",
        "#We reserve 104 samples from our training dataset for validation purposes. We should rescale the new\n",
        "#train and validation subsets:\n",
        "x_train_optuna,x_val_optuna= x_train[:300,:],x_train[300:,:]\n",
        "y_train_optuna,y_val_optuna=y_train[:300],y_train[300:]\n",
        "\n",
        "\n",
        "#We rescale the new train and validation subsets:\n",
        "optuna_scaler=StandardScaler()\n",
        "optuna_scaler.fit(x_train_optuna)\n",
        "x_train_optuna_rescaled=optuna_scaler.fit_transform(x_train_optuna)\n",
        "x_val_optuna_rescaled=optuna_scaler.fit_transform(x_val_optuna)\n",
        "\n"
      ]
    },
    {
      "cell_type": "markdown",
      "metadata": {
        "id": "A_Qttsu-wOqR"
      },
      "source": [
        "The main structure of the objective function is already defined. Therefore, you would have to fill in the missing code in order to create the search space. If the code runs error free, you should be able to execute the optimization (two cells below the current cell, where we call study.optimize). The comments in the objective function highlight the functionality that has to be implemented:"
      ]
    },
    {
      "cell_type": "code",
      "execution_count": null,
      "metadata": {
        "id": "Rx99r_VlwOqR"
      },
      "outputs": [],
      "source": [
        "#Definition of the objective as python function:\n",
        "\n",
        "def objective(trial: optuna.Trial) -> np.float64:\n",
        "    '''\n",
        "    Perform hyperparameter tuning using optuna.\n",
        "\n",
        "    Parameters:\n",
        "    -----------\n",
        "    trial:optuna.Trial\n",
        "        An optuna run with a specific hyperparameter configuration sampled in this function.\n",
        "\n",
        "    Returns:\n",
        "    ---------\n",
        "    mse_val: np.float64\n",
        "        The mse error score achieved on the validation set.\n",
        "    '''\n",
        "\n",
        "    #Sample number of neurons for a pre-defined maximum number of hidden layers:\n",
        "    # here you need to consider conditional hyperparameters:\n",
        "    max_hidden_layers=3\n",
        "    hidden_units_list=[]\n",
        "    keep_sampling_hidden_units=True\n",
        "    nr_hidden_layer=0\n",
        "\n",
        "    #Keep on sampling the number of hidden units until you have reached the max number of layers\n",
        "    #or until optuna has sampled 0 units indicating the network should not be grown deeper:\n",
        "    while keep_sampling_hidden_units:\n",
        "        if nr_hidden_layer==0:\n",
        "            current_hidden_units=trial.suggest_int(\"Units_hidden_layer_\"+str(nr_hidden_layer), low=10, high=200,step=10)\n",
        "        else:\n",
        "            current_hidden_units=trial.suggest_int(\"Units_hidden_layer_\"+str(nr_hidden_layer), low=10, high=200,step=10)\n",
        "\n",
        "        if current_hidden_units==0 or nr_hidden_layer==max_hidden_layers-1:\n",
        "            keep_sampling_hidden_units=False\n",
        "\n",
        "        if current_hidden_units!=0:\n",
        "            hidden_units_list.append(current_hidden_units)\n",
        "\n",
        "        #Terminate the training if max number of layers reached or currently sampled units are 0:\n",
        "        ...\n",
        "\n",
        "        #Save the sampled number of units in the list hidden_units_list unless optuna has sampled 0 units:\n",
        "        ...\n",
        "\n",
        "        nr_hidden_layer=nr_hidden_layer+1\n",
        "\n",
        "    #Non-conditional hyperparameters:\n",
        "    current_optimizer= trial.suggest_categorical(\"Optimizer\",['adam','sgd'])\n",
        "    current_learning_rate=trial.suggest_float(\"Learning_Rate\",low=0.0001,high=0.001,step=0.0001)\n",
        "    current_activation=trial.suggest_categorical(\"Activation\",['identity', 'logistic', 'tanh', 'relu'])\n",
        "\n",
        "    #Implementation of an MLPRegressor using the hyperparameters sampled in the current trial.\n",
        "    #Don't forget to also set the L2 parameter to a rather high value, e.g., 0.01, to avoid overfitting:\n",
        "    current_MLP_regressor=MLPRegressor(hidden_layer_sizes=hidden_units_list,\n",
        "                                        activation=current_activation,\n",
        "                                        solver=current_optimizer,\n",
        "                                        learning_rate_init=current_learning_rate,\n",
        "                                        alpha=0.01)\n",
        "\n",
        "    #Fit on the training set and evaluate the performance on validation set:\n",
        "    current_MLP_regressor.fit(x_train_optuna_rescaled,y_train_optuna)\n",
        "    val_predictions=current_MLP_regressor.predict(x_val_optuna_rescaled)\n",
        "\n",
        "    mse_val=mse(true_target=y_val_optuna,predictions=val_predictions)\n",
        "    return mse_val"
      ]
    },
    {
      "cell_type": "code",
      "execution_count": null,
      "metadata": {
        "id": "wdQEMDBKwOqS"
      },
      "outputs": [],
      "source": [
        "#Hyperparameter optimization using Optuna for 50 trials:\n",
        "study = optuna.create_study(sampler=optuna.samplers.TPESampler(),direction='minimize')\n",
        "study.optimize(objective, n_trials=50)"
      ]
    },
    {
      "cell_type": "code",
      "source": [
        "print('Study best MSE:',study.best_value)\n",
        "print('Study best parameters: \\n', study.best_params)\n",
        "print(study.best_trial)"
      ],
      "metadata": {
        "id": "zKiQd83TQFo6"
      },
      "execution_count": null,
      "outputs": []
    },
    {
      "cell_type": "code",
      "source": [
        "optuna.visualization.plot_optimization_history(study)\n",
        "optuna.visualization.plot_param_importances(study)"
      ],
      "metadata": {
        "id": "Y65QMO7EQInE"
      },
      "execution_count": null,
      "outputs": []
    },
    {
      "cell_type": "code",
      "execution_count": null,
      "metadata": {
        "id": "1WiY5YfLwOqT"
      },
      "outputs": [],
      "source": [
        "#Extraction of best hyperparameters and application of the model trained with the best configuration on the test set:\n",
        "best_config=study.best_trial.params\n",
        "print('Best configuration:')\n",
        "for key in best_config.keys():\n",
        "    print(key,': ',(best_config[key]))"
      ]
    },
    {
      "cell_type": "code",
      "execution_count": null,
      "metadata": {
        "id": "P6HEtlWxwOqT"
      },
      "outputs": [],
      "source": [
        "#Implementation of the MLP-regressor with the best hyperparameter configuration:\n",
        "best_mlp_regressor=MLPRegressor(hidden_layer_sizes=[170,110,170],\n",
        "                                activation='relu',\n",
        "                                solver= 'sgd',\n",
        "                                learning_rate_init = 0.0009000000000000001)\n",
        "\n",
        "best_mlp_regressor.fit(x_train_rescaled,y_train)"
      ]
    },
    {
      "cell_type": "code",
      "execution_count": null,
      "metadata": {
        "id": "zUyi17vowOqU"
      },
      "outputs": [],
      "source": [
        "#Comparison of results with tuned vs not tuned ReLU-neural network:\n",
        "best_mlp_regressor.predict(x_test_rescaled)\n",
        "mse(y_test,best_mlp_regressor.predict(x_test_rescaled))"
      ]
    },
    {
      "cell_type": "code",
      "execution_count": null,
      "metadata": {
        "id": "ayh4o1iQwOqV"
      },
      "outputs": [],
      "source": []
    }
  ],
  "metadata": {
    "interpreter": {
      "hash": "e2c68f0abcf3705a60d2a1ddd11382db992c60d9e301bdf771b0d9399403a061"
    },
    "kernelspec": {
      "display_name": "Python 3 (ipykernel)",
      "language": "python",
      "name": "python3"
    },
    "language_info": {
      "codemirror_mode": {
        "name": "ipython",
        "version": 3
      },
      "file_extension": ".py",
      "mimetype": "text/x-python",
      "name": "python",
      "nbconvert_exporter": "python",
      "pygments_lexer": "ipython3",
      "version": "3.9.13"
    },
    "colab": {
      "provenance": []
    }
  },
  "nbformat": 4,
  "nbformat_minor": 0
}