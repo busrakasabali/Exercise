{
  "cells": [
    {
      "cell_type": "markdown",
      "metadata": {
        "id": "UvDktqOtrhN0"
      },
      "source": [
        "# Tutorial 4 - Introduction to Natural Language Processing (NLP)\n",
        "\n",
        "You are already familiar with building predictive models on tabular data. With the latter, you have a feature matrix `X` and a target vector `Y`. Given these data structures, you can apply ML algorithms to learn the relationship between `X` and `Y`. In this notebook, you will work with a dataset consisting of movie reviews, each labeled with either a negative or positive sentiment. In contrast to numerical tabular data, textual data cannot be fed directly into ML algorithms for predictive modeling purposes. Thus, with textual data, you need to preprocess each data sample to obtain the required feature matrix `X`. This processing of the data is what we call the \"NLP pipeline\". The dimensionality and the quality of the features, which can be extracted from textual data, depend on the preprocessing steps implemented in the NLP pipeline. In this notebook, we will mainly focus on NLP preprocessing and frequency-based feature creation.<br>\n",
        "\n",
        "Here is the outline of today's notebook:\n",
        "*   NLP Processing Pipeline (Demo).\n",
        "*   Preprocessing of Movie Reviews Data (Exercise 1).\n",
        "*   Frequency-based Feature Creation (Bag-of-Words) for Text Classification (Exercise 2)."
      ]
    },
    {
      "cell_type": "code",
      "execution_count": 1,
      "metadata": {
        "id": "2qikLZDzrhN4"
      },
      "outputs": [],
      "source": [
        "# required packages\n",
        "import pandas as pd\n",
        "import nltk #Natural Language Toolkit\n",
        "from nltk.tokenize import word_tokenize\n",
        "from nltk.corpus import stopwords\n",
        "from nltk.stem import WordNetLemmatizer\n",
        "from nltk.corpus import wordnet\n",
        "from bs4 import BeautifulSoup\n",
        "import re\n",
        "from sklearn.model_selection import train_test_split\n",
        "from sklearn import metrics\n",
        "import pickle\n",
        "from sklearn.feature_extraction.text import TfidfVectorizer\n",
        "from sklearn.feature_extraction.text import CountVectorizer\n",
        "from sklearn.linear_model import LogisticRegression\n",
        "from xgboost import XGBClassifier\n",
        "from sklearn.metrics import recall_score,precision_score,roc_auc_score\n",
        "import numpy as np"
      ]
    },
    {
      "cell_type": "markdown",
      "metadata": {
        "id": "UpAxMCM6rhN7"
      },
      "source": [
        "## **1. NLP Processing Pipeline** (DEMO)"
      ]
    },
    {
      "cell_type": "markdown",
      "metadata": {
        "id": "9Wrzx7z1rhN8"
      },
      "source": [
        "In this section, we will cover key data preprocessing steps of an NLP pipeline. First, let's revisit the latter with the visualization below:<br>\n",
        "\n",
        "<img src=\"https://github.com/Humboldt-WI/demopy/raw/main/NLP_Pipeline_Overview.PNG\" width=\"950\" height=\"520\" alt=\"NLP Pipeline\">"
      ]
    },
    {
      "cell_type": "markdown",
      "metadata": {
        "id": "84qs0jWwrhN9"
      },
      "source": [
        "We begin by gathering samples for our textual data corpus, i.e., we go through the archives of, e.g., a company, and pull out Word files, PowerPoint presentations, etc. Since the machine learning models we have learned so far such as neural networks, decision trees, random forest, etc., do not natively process text, we need to go through specific data preprocessing and cleaning steps to convert textual data into a format that our algorithms can work with. Let's assume we have the following movie review:<br>"
      ]
    },
    {
      "cell_type": "code",
      "execution_count": 2,
      "metadata": {
        "colab": {
          "base_uri": "https://localhost:8080/"
        },
        "id": "dkPsYg3prhN-",
        "outputId": "789b1031-ab32-4c17-fe57-4a97c99caba9"
      },
      "outputs": [
        {
          "output_type": "stream",
          "name": "stdout",
          "text": [
            "<br>Last week, I went to the Berlin movie theater Zoo Palast, https://zoopalast.premiumkino.de, to watch the new action movie with Tom Cruise, which turned out to be very enjoyable experience. While there was a long queue at the entrance of the movie theater and I had to wait around 10 - 15 min. to go in, the movie was really worth it!<br>\n"
          ]
        }
      ],
      "source": [
        "movie_review='<br>Last week, I went to the Berlin movie theater Zoo Palast, https://zoopalast.premiumkino.de, to watch the new action movie with Tom Cruise, which turned out to be very enjoyable experience. While there was a long queue at the entrance of the movie theater and I had to wait around 10 - 15 min. to go in, the movie was really worth it!<br>'\n",
        "print(movie_review)"
      ]
    },
    {
      "cell_type": "markdown",
      "metadata": {
        "id": "5cTOn7rArhN_"
      },
      "source": [
        "If our goal is to determine the sentiment of the movie review, then the HTML content, i.e., `< br >` indicating a line break, and the URL link would not provide us with any useful information. Therefore, the first two data preprocessing steps, which we will take, are to remove the HTML content and to filter out the URL from our textual sample:<br>"
      ]
    },
    {
      "cell_type": "code",
      "execution_count": 3,
      "metadata": {
        "colab": {
          "base_uri": "https://localhost:8080/"
        },
        "id": "FKMTSjbbrhOA",
        "outputId": "b21c7888-93d9-446e-ae33-03fc6f17d23d"
      },
      "outputs": [
        {
          "output_type": "stream",
          "name": "stdout",
          "text": [
            "1. Step: Removing URL Link\n",
            "<br>Last week, I went to the Berlin movie theater Zoo Palast,  to watch the new action movie with Tom Cruise, which turned out to be very enjoyable experience. While there was a long queue at the entrance of the movie theater and I had to wait around 10 - 15 min. to go in, the movie was really worth it!<br> \n",
            "\n",
            "2. Step: Removing HMTL Content\n",
            "Last week, I went to the Berlin movie theater Zoo Palast,  to watch the new action movie with Tom Cruise, which turned out to be very enjoyable experience. While there was a long queue at the entrance of the movie theater and I had to wait around 10 - 15 min. to go in, the movie was really worth it!\n"
          ]
        }
      ],
      "source": [
        "# Remove html content\n",
        "print('1. Step: Removing URL Link')\n",
        "clean_movie_review = re.sub(\"http\\S+\", \"\",movie_review)\n",
        "print(clean_movie_review,'\\n')\n",
        "\n",
        "print('2. Step: Removing HMTL Content')\n",
        "clean_movie_review = BeautifulSoup(clean_movie_review).get_text()\n",
        "print(clean_movie_review)\n"
      ]
    },
    {
      "cell_type": "markdown",
      "metadata": {
        "id": "MLjBGrA_rhOB"
      },
      "source": [
        "In the previous example, we make use of *regular expressions* to clean the text. Regular expressions are a powerful mechanism for text processing. However, a comprehensive discussion of what you can do with regular expressions and how to use them is out of the scope of this notebook. If you'd like to learn more about regular expression, check out the [Wikipedia page](https://en.wikipedia.org/wiki/Regular_expression) as a starting point. The [W3Schools](https://www.w3schools.com/python/python_regex.asp) website or the [Regex101](https://regex101.com/) website provide easily accessible playgrounds to start working with regular expressions.\n",
        "\n",
        " In our demo, we use the python package for regular expressions, i.e., `re`, to remove unnecessary characters. To achieve this, we specify a pattern that we would like to remove, i.e, \"http\\S+\", and we also specify the replacement, i.e, an empty character. \"\\S+\" matches a word or token that does not contain any whitespace. In combination with \"http\", we essentially look for a substring in our textual sample that starts with \"http\" and is followed by one or more non-whitespace characters. Put in other words, the pattern will find everything from \"http\" until the next space, and remove the corresponding content. Additionally, the package `BeautifulSoup` facilitates the scraping of information from web pages. When we feed text with any HMTL content to `BeautifulSoup` we use the function `get_text()` to retrieve the HTML tag-free version of our textual sample. Besides HTML and URL content, we would also like to remove any non-alphabetic characters, as they usually do not carry any semantic information:  "
      ]
    },
    {
      "cell_type": "code",
      "execution_count": 4,
      "metadata": {
        "colab": {
          "base_uri": "https://localhost:8080/"
        },
        "id": "E_ooQGxPrhOB",
        "outputId": "e54dd198-4142-4e99-b1ae-fcfe5c9d09bd"
      },
      "outputs": [
        {
          "output_type": "stream",
          "name": "stdout",
          "text": [
            "3. Step: Removing non-alphabetic Characters\n",
            "Last week  I went to the Berlin movie theater Zoo Palast   to watch the new action movie with Tom Cruise  which turned out to be very enjoyable experience  While there was a long queue at the entrance of the movie theater and I had to wait around         min  to go in  the movie was really worth it \n"
          ]
        }
      ],
      "source": [
        "print('3. Step: Removing non-alphabetic Characters')\n",
        "clean_movie_review = re.sub(\"[^a-zA-Z]\", \" \",clean_movie_review)\n",
        "print(clean_movie_review)"
      ]
    },
    {
      "cell_type": "markdown",
      "metadata": {
        "id": "mgZox4QHrhOD"
      },
      "source": [
        "The bracket list \"[^...]\" will find any set of characters that are not matched (\"^\") by the specified pattern (\"...\"). Thus, by setting \"[^a-zA-Z]\", we are looking for all substrings, that do not overlap with lower case or upper case alphabet characters. Since letter casing (whether upper or lower) does not provide any information about the underlying meaning or context of the textual data, we will transform the whole movie review to lower case:"
      ]
    },
    {
      "cell_type": "code",
      "execution_count": 5,
      "metadata": {
        "colab": {
          "base_uri": "https://localhost:8080/"
        },
        "id": "c4tgROM1rhOE",
        "outputId": "97a2625c-bc2e-47cc-8a5f-2468abdfc543"
      },
      "outputs": [
        {
          "output_type": "stream",
          "name": "stdout",
          "text": [
            "4. Step: Transforming all Characters to lower Case\n",
            "last week  i went to the berlin movie theater zoo palast   to watch the new action movie with tom cruise  which turned out to be very enjoyable experience  while there was a long queue at the entrance of the movie theater and i had to wait around         min  to go in  the movie was really worth it \n"
          ]
        }
      ],
      "source": [
        "print('4. Step: Transforming all Characters to lower Case')\n",
        "clean_movie_review = clean_movie_review.lower()\n",
        "print(clean_movie_review)"
      ]
    },
    {
      "cell_type": "markdown",
      "metadata": {
        "id": "pan-XVoNrhOF"
      },
      "source": [
        "Next, before we proceed to splitting our movie review into a list of words using the package `nltk`, we will revisit the concept of tokenization with the visualization below:<br>\n",
        "<img src=\"https://github.com/Humboldt-WI/demopy/raw/main/Tokenization.PNG\" width=\"950\" height=\"440\" alt=\"Tokenization\">"
      ]
    },
    {
      "cell_type": "code",
      "execution_count": 6,
      "metadata": {
        "colab": {
          "base_uri": "https://localhost:8080/"
        },
        "id": "hTw7um12rhOF",
        "outputId": "b72c0910-ee72-42da-d749-a851e2ab2564"
      },
      "outputs": [
        {
          "output_type": "stream",
          "name": "stdout",
          "text": [
            "5. Step: Performing Tokenization\n",
            "['last', 'week', 'i', 'went', 'to', 'the', 'berlin', 'movie', 'theater', 'zoo']\n"
          ]
        },
        {
          "output_type": "stream",
          "name": "stderr",
          "text": [
            "[nltk_data] Downloading package punkt_tab to /root/nltk_data...\n",
            "[nltk_data]   Unzipping tokenizers/punkt_tab.zip.\n"
          ]
        }
      ],
      "source": [
        "import nltk\n",
        "nltk.download('punkt_tab')\n",
        "print('5. Step: Performing Tokenization')\n",
        "clean_movie_review=nltk.word_tokenize(clean_movie_review)\n",
        "print(clean_movie_review[:10])"
      ]
    },
    {
      "cell_type": "markdown",
      "metadata": {
        "id": "Jo3fzUMErhOG"
      },
      "source": [
        "The resulting list of tokens directly impacts the feature extraction process. Therefore, before splitting the movie review into individual words, we removed some unnecessary content. However, when we consider all tokens put together, their number can still very easily turn large. To further reduce this number, we eliminate the so-called stopwords. The latter usually do not contribute to the model‘s perception of the movie review, whether it has a negative or a positive sentiment:<br>\n",
        "<img src=\"https://github.com/Humboldt-WI/demopy/raw/main/Removal_Stopwords.PNG\" width=\"950\" height=\"530\" alt=\"Stopwords\">\n"
      ]
    },
    {
      "cell_type": "code",
      "execution_count": 12,
      "metadata": {
        "colab": {
          "base_uri": "https://localhost:8080/"
        },
        "id": "RjacvHP3rhOH",
        "outputId": "ef7bff86-0167-454d-8d49-8059dc9afdb0"
      },
      "outputs": [
        {
          "output_type": "stream",
          "name": "stderr",
          "text": [
            "[nltk_data] Downloading package stopwords to /root/nltk_data...\n",
            "[nltk_data]   Unzipping corpora/stopwords.zip.\n"
          ]
        },
        {
          "output_type": "execute_result",
          "data": {
            "text/plain": [
              "True"
            ]
          },
          "metadata": {},
          "execution_count": 12
        }
      ],
      "source": [
        "nltk.download('stopwords') ## to download stopwords"
      ]
    },
    {
      "cell_type": "code",
      "execution_count": 13,
      "metadata": {
        "colab": {
          "base_uri": "https://localhost:8080/"
        },
        "id": "e6HJKm1grhOI",
        "outputId": "110e66e6-281e-49b2-99e4-72bb24b7472d"
      },
      "outputs": [
        {
          "output_type": "stream",
          "name": "stdout",
          "text": [
            "Examples for Stopwords from NLTK:  ['a', 'about', 'above', 'after', 'again', 'against', 'ain', 'all', 'am', 'an']\n"
          ]
        }
      ],
      "source": [
        "print('Examples for Stopwords from NLTK: ',stopwords.words(\"english\")[:10])"
      ]
    },
    {
      "cell_type": "markdown",
      "metadata": {
        "id": "OYfGnBWYrhOJ"
      },
      "source": [
        "The stopwords from `nltk` represent a list of tokens, which we will exclude from our textual sample. If we have a reason to believe that some of the tokens in the stopwords list could hold a semantic meaning for our task, we would first remove these tokens before the stopwords elimination. Adjustments could also be performed in the opposite case, when we decide to extend the list of stopwords with some specific tokens, which are not covered by `nltk`, and are yet contained in our textual data. After all, and as shown in the previous, `nltk` maintains the list of stopword list as a Python `list`. You can manipulate this list just as any other `list` using its inbuilt methods like `append()`, `remove()`, etc. For example, if you want to add the token \"yet\" to the list of stopwords, you can do so by calling `stopwords.append(\"yet\")`. In our demo, we will use the default stopword list provided by `nltk`."
      ]
    },
    {
      "cell_type": "code",
      "execution_count": 14,
      "metadata": {
        "colab": {
          "base_uri": "https://localhost:8080/"
        },
        "id": "6WhcpeS_rhOK",
        "outputId": "ada91611-fd22-4a59-d1d6-b706c50190aa"
      },
      "outputs": [
        {
          "output_type": "stream",
          "name": "stdout",
          "text": [
            "6. Step: Stopwords Removal\n",
            "- Number of Tokens before Stopwords Removal:  57\n",
            "- Number of Tokens after Stopwords Removal:  29\n"
          ]
        }
      ],
      "source": [
        "all_tokens=len(clean_movie_review)\n",
        "print('6. Step: Stopwords Removal')\n",
        "clean_movie_review = [w for w in clean_movie_review if w not in stopwords.words(\"english\")]\n",
        "print('- Number of Tokens before Stopwords Removal: ', all_tokens)\n",
        "print('- Number of Tokens after Stopwords Removal: ', len(clean_movie_review))"
      ]
    },
    {
      "cell_type": "code",
      "source": [
        "#choosing lemma most of the time is better because stem can eliminate the ending of the word and create a\n",
        "#word that does not exist but lemma searches for its dictionary format"
      ],
      "metadata": {
        "id": "PMVEpZmGwlk_"
      },
      "execution_count": null,
      "outputs": []
    },
    {
      "cell_type": "markdown",
      "metadata": {
        "id": "jdIuavevrhOM"
      },
      "source": [
        "In addition to the elimination of stopwords, we can further reduce number of distinct tokens with stemming and lemmatization:<br>\n",
        "<img src=\"https://github.com/Humboldt-WI/demopy/raw/main/Stemming_Lemmatization.PNG\" width=\"950\" height=\"530\" alt=\"Stemming_Lemmatization\">"
      ]
    },
    {
      "cell_type": "markdown",
      "metadata": {
        "id": "wgrb5S2yrhON"
      },
      "source": [
        "For example, to 'understand' text algorithmically, it might be enough to know that *someone performs the action of going somewhere*, whereas it might matter less whether they are going now, went in the past, or will go in the future. While stemming is a crude heuristic to remove the end or the beginning of a word based on pre-defined suffixes and prefixes, respectively, lemmatization normalizes tokens by reducing words to their dictionary form. Since stemming can produce non-existent words, lemmatization is the better choice for ensuring consistency in how we represent text. Determining the grammatical role, i.e., a token's part-of-speech tag, can improve the results obtained with lemmatization. Compared to stemming, however, lemmatization is a more complex step and requires, for example, a POS tagger:<br>\n",
        "<img src=\"https://github.com/Humboldt-WI/demopy/raw/main/POS.PNG\" width=\"950\" height=\"530\" alt=\"POS\">\n",
        "<br>\n",
        "The following functions illustrates POS tagging with the help of the `nltk` package."
      ]
    },
    {
      "cell_type": "code",
      "execution_count": 15,
      "metadata": {
        "colab": {
          "base_uri": "https://localhost:8080/"
        },
        "id": "umMaNfnWrhOO",
        "outputId": "6da989bb-1e06-465c-f6d6-9d7093a6b6cc"
      },
      "outputs": [
        {
          "output_type": "stream",
          "name": "stderr",
          "text": [
            "[nltk_data] Downloading package wordnet to /root/nltk_data...\n"
          ]
        }
      ],
      "source": [
        "# Lemmatize with POS Tag (Parts of Speech tagging)\n",
        "#wordnet lemmatizer lexicon, which maps words to their lemmas\n",
        "nltk.download('wordnet')\n",
        "def get_wordnet_pos(word:str)->str:\n",
        "    \"\"\"Map POS tag to first character for lemmatization\n",
        "\n",
        "    Returns:\n",
        "    --------\n",
        "    pos: str\n",
        "        The positional tag of speech retrieved from wordnet database.\n",
        "    \"\"\"\n",
        "\n",
        "    tag = nltk.pos_tag([word])[0][1][0].upper()\n",
        "    tag_dict = {\"J\": wordnet.ADJ,\n",
        "                \"N\": wordnet.NOUN,\n",
        "                \"V\": wordnet.VERB,\n",
        "                \"R\": wordnet.ADV}\n",
        "\n",
        "    pos=tag_dict.get(tag,wordnet.NOUN)\n",
        "\n",
        "    return pos"
      ]
    },
    {
      "cell_type": "code",
      "source": [
        "nltk.download('averaged_perceptron_tagger_eng')"
      ],
      "metadata": {
        "colab": {
          "base_uri": "https://localhost:8080/"
        },
        "id": "GT2jziXgxlJy",
        "outputId": "458188b9-9c21-43a9-d36f-6d5a70b7f121"
      },
      "execution_count": 16,
      "outputs": [
        {
          "output_type": "stream",
          "name": "stderr",
          "text": [
            "[nltk_data] Downloading package averaged_perceptron_tagger_eng to\n",
            "[nltk_data]     /root/nltk_data...\n",
            "[nltk_data]   Unzipping taggers/averaged_perceptron_tagger_eng.zip.\n"
          ]
        },
        {
          "output_type": "execute_result",
          "data": {
            "text/plain": [
              "True"
            ]
          },
          "metadata": {},
          "execution_count": 16
        }
      ]
    },
    {
      "cell_type": "code",
      "execution_count": 17,
      "metadata": {
        "colab": {
          "base_uri": "https://localhost:8080/"
        },
        "id": "Jt43Pw5UrhOP",
        "outputId": "6c105320-772a-4c1c-c431-9ac18c0aa661"
      },
      "outputs": [
        {
          "output_type": "stream",
          "name": "stdout",
          "text": [
            "7. Step: Lemmatization with POS Tagging:\n",
            "- First three Tokens before Lemmatization:  ['last', 'week', 'went']\n",
            "- First three Tokens after Lemmatization:  ['last', 'week', 'go']\n"
          ]
        }
      ],
      "source": [
        "print('7. Step: Lemmatization with POS Tagging:')\n",
        "print('- First three Tokens before Lemmatization: ',clean_movie_review[:3])\n",
        "lemmatizer = WordNetLemmatizer()\n",
        "clean_movie_review=[lemmatizer.lemmatize(i, get_wordnet_pos(i)) for i in clean_movie_review]\n",
        "print('- First three Tokens after Lemmatization: ',clean_movie_review[:3])"
      ]
    },
    {
      "cell_type": "markdown",
      "metadata": {
        "id": "WPmPDwybrhOP"
      },
      "source": [
        "The function `lemmatize` from the class `WordNetLemmatizer` retrieves the dictionary form of the input token from the WordNet database. The latter represents a large english lexical database that has been continuously extended over the years. WordNet groups words together based on their semantic meaning forming synonym sets, also known as synsets. Most of the relations in WordNet connect words from the same POS. For more details on WordNet, we refer the reader to https://wordnet.princeton.edu/."
      ]
    },
    {
      "cell_type": "markdown",
      "metadata": {
        "id": "yQz2ECBCrhOQ"
      },
      "source": [
        "**Demo Summary**:<br>\n",
        "- the first five steps of our NLP preprocessing pipeline involve the elimination of HTML content, URLs, non-alphabetic characters, converting all tokens to lower case, and tokenization.\n",
        "- once the text is split into individual tokens, we apply two techniques to further reduce the number of words: stopwords removal and lemmatization. The latter reduces the number of distinctive words per data sample by replacing different forms of the same token with its dictionary form. This is essential for frequency-based feature extraction techniques, as each textual sample is represented with a numerical vector, the dimensionality of which is determined by the number of distinct tokens in the entire vocabulary."
      ]
    },
    {
      "cell_type": "markdown",
      "metadata": {
        "id": "gE7BbOsCrhOQ"
      },
      "source": [
        "## **2. Preprocessing of Movie Reviews Data** (1. Exercise)<br>\n",
        "- put the individual preprocessing steps from the demo in a well documented function. The latter should take as inputs a single textual sample.\n",
        "- preprocess the first 1,000 movie reviews from the IMDB dataset. For this purpose, make use of the `apply()` function in `pandas` to transform each movie review using the NLP preprocessing pipeline function.\n",
        "- split your data into 80% train and 20% test subsets using the function `train_test_split()`."
      ]
    },
    {
      "cell_type": "code",
      "execution_count": 18,
      "metadata": {
        "id": "KksimsoTrhOR"
      },
      "outputs": [],
      "source": [
        "def NLP_preprocessing_pipeline(textual_sample:str)->list:\n",
        "    '''\n",
        "    Implements 7 steps of an NLP preprocessing pipeline.\n",
        "\n",
        "    Parameters:\n",
        "    -----------\n",
        "    textual_sample:str\n",
        "        The input text that requires preprocessing\n",
        "\n",
        "    Returns:\n",
        "    --------\n",
        "    preprocessed_textual_sample:list\n",
        "        The textual sample after each of the 7 preprocessing steps have been applied.\n",
        "\n",
        "    '''\n",
        "    lemmatizer = WordNetLemmatizer()\n",
        "\n",
        "    #Preprocessing:\n",
        "\n",
        "    #Removing of URLs:\n",
        "    preprocessed_textual_sample = re.sub(\"http\\S+\",\"\",textual_sample)\n",
        "\n",
        "    #Removing of HTML tags:\n",
        "    preprocessed_textual_sample = BeautifulSoup(preprocessed_textual_sample).get_text()\n",
        "\n",
        "    #Removing of non-alphabetic characters:\n",
        "    preprocessed_textual_sample = re.sub(\"[^a-zA-Z]\",\" \",preprocessed_textual_sample)\n",
        "\n",
        "    #Changing all tokens to lower case:\n",
        "    preprocessed_textual_sample = preprocessed_textual_sample.lower()\n",
        "\n",
        "    #Tokenization:\n",
        "    preprocessed_textual_sample = nltk.word_tokenize(preprocessed_textual_sample)\n",
        "\n",
        "    #Stopwords removal:\n",
        "    preprocessed_textual_sample =[w for w in preprocessed_textual_sample if w not in stopwords.words(\"english\")]\n",
        "\n",
        "    #Lemmatization:\n",
        "    preprocessed_textual_sample = [lemmatizer.lemmatize(w, get_wordnet_pos(w)) for w in preprocessed_textual_sample]\n",
        "\n",
        "    return preprocessed_textual_sample"
      ]
    },
    {
      "cell_type": "code",
      "execution_count": 20,
      "metadata": {
        "id": "-JWkLvNkrhOR",
        "outputId": "051e041e-3ad3-4845-f2f9-416b04186129",
        "colab": {
          "base_uri": "https://localhost:8080/",
          "height": 359
        }
      },
      "outputs": [
        {
          "output_type": "execute_result",
          "data": {
            "text/plain": [
              "                                              review sentiment\n",
              "0  One of the other reviewers has mentioned that ...  positive\n",
              "1  A wonderful little production. <br /><br />The...  positive\n",
              "2  I thought this was a wonderful way to spend ti...  positive\n",
              "3  Basically there's a family where a little boy ...  negative\n",
              "4  Petter Mattei's \"Love in the Time of Money\" is...  positive\n",
              "5  Probably my all-time favorite movie, a story o...  positive\n",
              "6  I sure would like to see a resurrection of a u...  positive\n",
              "7  This show was an amazing, fresh & innovative i...  negative\n",
              "8  Encouraged by the positive comments about this...  negative\n",
              "9  If you like original gut wrenching laughter yo...  positive"
            ],
            "text/html": [
              "\n",
              "  <div id=\"df-8fd1f3ef-9585-4456-97a4-73e7cc6674b5\" class=\"colab-df-container\">\n",
              "    <div>\n",
              "<style scoped>\n",
              "    .dataframe tbody tr th:only-of-type {\n",
              "        vertical-align: middle;\n",
              "    }\n",
              "\n",
              "    .dataframe tbody tr th {\n",
              "        vertical-align: top;\n",
              "    }\n",
              "\n",
              "    .dataframe thead th {\n",
              "        text-align: right;\n",
              "    }\n",
              "</style>\n",
              "<table border=\"1\" class=\"dataframe\">\n",
              "  <thead>\n",
              "    <tr style=\"text-align: right;\">\n",
              "      <th></th>\n",
              "      <th>review</th>\n",
              "      <th>sentiment</th>\n",
              "    </tr>\n",
              "  </thead>\n",
              "  <tbody>\n",
              "    <tr>\n",
              "      <th>0</th>\n",
              "      <td>One of the other reviewers has mentioned that ...</td>\n",
              "      <td>positive</td>\n",
              "    </tr>\n",
              "    <tr>\n",
              "      <th>1</th>\n",
              "      <td>A wonderful little production. &lt;br /&gt;&lt;br /&gt;The...</td>\n",
              "      <td>positive</td>\n",
              "    </tr>\n",
              "    <tr>\n",
              "      <th>2</th>\n",
              "      <td>I thought this was a wonderful way to spend ti...</td>\n",
              "      <td>positive</td>\n",
              "    </tr>\n",
              "    <tr>\n",
              "      <th>3</th>\n",
              "      <td>Basically there's a family where a little boy ...</td>\n",
              "      <td>negative</td>\n",
              "    </tr>\n",
              "    <tr>\n",
              "      <th>4</th>\n",
              "      <td>Petter Mattei's \"Love in the Time of Money\" is...</td>\n",
              "      <td>positive</td>\n",
              "    </tr>\n",
              "    <tr>\n",
              "      <th>5</th>\n",
              "      <td>Probably my all-time favorite movie, a story o...</td>\n",
              "      <td>positive</td>\n",
              "    </tr>\n",
              "    <tr>\n",
              "      <th>6</th>\n",
              "      <td>I sure would like to see a resurrection of a u...</td>\n",
              "      <td>positive</td>\n",
              "    </tr>\n",
              "    <tr>\n",
              "      <th>7</th>\n",
              "      <td>This show was an amazing, fresh &amp; innovative i...</td>\n",
              "      <td>negative</td>\n",
              "    </tr>\n",
              "    <tr>\n",
              "      <th>8</th>\n",
              "      <td>Encouraged by the positive comments about this...</td>\n",
              "      <td>negative</td>\n",
              "    </tr>\n",
              "    <tr>\n",
              "      <th>9</th>\n",
              "      <td>If you like original gut wrenching laughter yo...</td>\n",
              "      <td>positive</td>\n",
              "    </tr>\n",
              "  </tbody>\n",
              "</table>\n",
              "</div>\n",
              "    <div class=\"colab-df-buttons\">\n",
              "\n",
              "  <div class=\"colab-df-container\">\n",
              "    <button class=\"colab-df-convert\" onclick=\"convertToInteractive('df-8fd1f3ef-9585-4456-97a4-73e7cc6674b5')\"\n",
              "            title=\"Convert this dataframe to an interactive table.\"\n",
              "            style=\"display:none;\">\n",
              "\n",
              "  <svg xmlns=\"http://www.w3.org/2000/svg\" height=\"24px\" viewBox=\"0 -960 960 960\">\n",
              "    <path d=\"M120-120v-720h720v720H120Zm60-500h600v-160H180v160Zm220 220h160v-160H400v160Zm0 220h160v-160H400v160ZM180-400h160v-160H180v160Zm440 0h160v-160H620v160ZM180-180h160v-160H180v160Zm440 0h160v-160H620v160Z\"/>\n",
              "  </svg>\n",
              "    </button>\n",
              "\n",
              "  <style>\n",
              "    .colab-df-container {\n",
              "      display:flex;\n",
              "      gap: 12px;\n",
              "    }\n",
              "\n",
              "    .colab-df-convert {\n",
              "      background-color: #E8F0FE;\n",
              "      border: none;\n",
              "      border-radius: 50%;\n",
              "      cursor: pointer;\n",
              "      display: none;\n",
              "      fill: #1967D2;\n",
              "      height: 32px;\n",
              "      padding: 0 0 0 0;\n",
              "      width: 32px;\n",
              "    }\n",
              "\n",
              "    .colab-df-convert:hover {\n",
              "      background-color: #E2EBFA;\n",
              "      box-shadow: 0px 1px 2px rgba(60, 64, 67, 0.3), 0px 1px 3px 1px rgba(60, 64, 67, 0.15);\n",
              "      fill: #174EA6;\n",
              "    }\n",
              "\n",
              "    .colab-df-buttons div {\n",
              "      margin-bottom: 4px;\n",
              "    }\n",
              "\n",
              "    [theme=dark] .colab-df-convert {\n",
              "      background-color: #3B4455;\n",
              "      fill: #D2E3FC;\n",
              "    }\n",
              "\n",
              "    [theme=dark] .colab-df-convert:hover {\n",
              "      background-color: #434B5C;\n",
              "      box-shadow: 0px 1px 3px 1px rgba(0, 0, 0, 0.15);\n",
              "      filter: drop-shadow(0px 1px 2px rgba(0, 0, 0, 0.3));\n",
              "      fill: #FFFFFF;\n",
              "    }\n",
              "  </style>\n",
              "\n",
              "    <script>\n",
              "      const buttonEl =\n",
              "        document.querySelector('#df-8fd1f3ef-9585-4456-97a4-73e7cc6674b5 button.colab-df-convert');\n",
              "      buttonEl.style.display =\n",
              "        google.colab.kernel.accessAllowed ? 'block' : 'none';\n",
              "\n",
              "      async function convertToInteractive(key) {\n",
              "        const element = document.querySelector('#df-8fd1f3ef-9585-4456-97a4-73e7cc6674b5');\n",
              "        const dataTable =\n",
              "          await google.colab.kernel.invokeFunction('convertToInteractive',\n",
              "                                                    [key], {});\n",
              "        if (!dataTable) return;\n",
              "\n",
              "        const docLinkHtml = 'Like what you see? Visit the ' +\n",
              "          '<a target=\"_blank\" href=https://colab.research.google.com/notebooks/data_table.ipynb>data table notebook</a>'\n",
              "          + ' to learn more about interactive tables.';\n",
              "        element.innerHTML = '';\n",
              "        dataTable['output_type'] = 'display_data';\n",
              "        await google.colab.output.renderOutput(dataTable, element);\n",
              "        const docLink = document.createElement('div');\n",
              "        docLink.innerHTML = docLinkHtml;\n",
              "        element.appendChild(docLink);\n",
              "      }\n",
              "    </script>\n",
              "  </div>\n",
              "\n",
              "\n",
              "    <div id=\"df-82e02d94-bb60-49ea-9800-a4cd758722e5\">\n",
              "      <button class=\"colab-df-quickchart\" onclick=\"quickchart('df-82e02d94-bb60-49ea-9800-a4cd758722e5')\"\n",
              "                title=\"Suggest charts\"\n",
              "                style=\"display:none;\">\n",
              "\n",
              "<svg xmlns=\"http://www.w3.org/2000/svg\" height=\"24px\"viewBox=\"0 0 24 24\"\n",
              "     width=\"24px\">\n",
              "    <g>\n",
              "        <path d=\"M19 3H5c-1.1 0-2 .9-2 2v14c0 1.1.9 2 2 2h14c1.1 0 2-.9 2-2V5c0-1.1-.9-2-2-2zM9 17H7v-7h2v7zm4 0h-2V7h2v10zm4 0h-2v-4h2v4z\"/>\n",
              "    </g>\n",
              "</svg>\n",
              "      </button>\n",
              "\n",
              "<style>\n",
              "  .colab-df-quickchart {\n",
              "      --bg-color: #E8F0FE;\n",
              "      --fill-color: #1967D2;\n",
              "      --hover-bg-color: #E2EBFA;\n",
              "      --hover-fill-color: #174EA6;\n",
              "      --disabled-fill-color: #AAA;\n",
              "      --disabled-bg-color: #DDD;\n",
              "  }\n",
              "\n",
              "  [theme=dark] .colab-df-quickchart {\n",
              "      --bg-color: #3B4455;\n",
              "      --fill-color: #D2E3FC;\n",
              "      --hover-bg-color: #434B5C;\n",
              "      --hover-fill-color: #FFFFFF;\n",
              "      --disabled-bg-color: #3B4455;\n",
              "      --disabled-fill-color: #666;\n",
              "  }\n",
              "\n",
              "  .colab-df-quickchart {\n",
              "    background-color: var(--bg-color);\n",
              "    border: none;\n",
              "    border-radius: 50%;\n",
              "    cursor: pointer;\n",
              "    display: none;\n",
              "    fill: var(--fill-color);\n",
              "    height: 32px;\n",
              "    padding: 0;\n",
              "    width: 32px;\n",
              "  }\n",
              "\n",
              "  .colab-df-quickchart:hover {\n",
              "    background-color: var(--hover-bg-color);\n",
              "    box-shadow: 0 1px 2px rgba(60, 64, 67, 0.3), 0 1px 3px 1px rgba(60, 64, 67, 0.15);\n",
              "    fill: var(--button-hover-fill-color);\n",
              "  }\n",
              "\n",
              "  .colab-df-quickchart-complete:disabled,\n",
              "  .colab-df-quickchart-complete:disabled:hover {\n",
              "    background-color: var(--disabled-bg-color);\n",
              "    fill: var(--disabled-fill-color);\n",
              "    box-shadow: none;\n",
              "  }\n",
              "\n",
              "  .colab-df-spinner {\n",
              "    border: 2px solid var(--fill-color);\n",
              "    border-color: transparent;\n",
              "    border-bottom-color: var(--fill-color);\n",
              "    animation:\n",
              "      spin 1s steps(1) infinite;\n",
              "  }\n",
              "\n",
              "  @keyframes spin {\n",
              "    0% {\n",
              "      border-color: transparent;\n",
              "      border-bottom-color: var(--fill-color);\n",
              "      border-left-color: var(--fill-color);\n",
              "    }\n",
              "    20% {\n",
              "      border-color: transparent;\n",
              "      border-left-color: var(--fill-color);\n",
              "      border-top-color: var(--fill-color);\n",
              "    }\n",
              "    30% {\n",
              "      border-color: transparent;\n",
              "      border-left-color: var(--fill-color);\n",
              "      border-top-color: var(--fill-color);\n",
              "      border-right-color: var(--fill-color);\n",
              "    }\n",
              "    40% {\n",
              "      border-color: transparent;\n",
              "      border-right-color: var(--fill-color);\n",
              "      border-top-color: var(--fill-color);\n",
              "    }\n",
              "    60% {\n",
              "      border-color: transparent;\n",
              "      border-right-color: var(--fill-color);\n",
              "    }\n",
              "    80% {\n",
              "      border-color: transparent;\n",
              "      border-right-color: var(--fill-color);\n",
              "      border-bottom-color: var(--fill-color);\n",
              "    }\n",
              "    90% {\n",
              "      border-color: transparent;\n",
              "      border-bottom-color: var(--fill-color);\n",
              "    }\n",
              "  }\n",
              "</style>\n",
              "\n",
              "      <script>\n",
              "        async function quickchart(key) {\n",
              "          const quickchartButtonEl =\n",
              "            document.querySelector('#' + key + ' button');\n",
              "          quickchartButtonEl.disabled = true;  // To prevent multiple clicks.\n",
              "          quickchartButtonEl.classList.add('colab-df-spinner');\n",
              "          try {\n",
              "            const charts = await google.colab.kernel.invokeFunction(\n",
              "                'suggestCharts', [key], {});\n",
              "          } catch (error) {\n",
              "            console.error('Error during call to suggestCharts:', error);\n",
              "          }\n",
              "          quickchartButtonEl.classList.remove('colab-df-spinner');\n",
              "          quickchartButtonEl.classList.add('colab-df-quickchart-complete');\n",
              "        }\n",
              "        (() => {\n",
              "          let quickchartButtonEl =\n",
              "            document.querySelector('#df-82e02d94-bb60-49ea-9800-a4cd758722e5 button');\n",
              "          quickchartButtonEl.style.display =\n",
              "            google.colab.kernel.accessAllowed ? 'block' : 'none';\n",
              "        })();\n",
              "      </script>\n",
              "    </div>\n",
              "\n",
              "    </div>\n",
              "  </div>\n"
            ],
            "application/vnd.google.colaboratory.intrinsic+json": {
              "type": "dataframe",
              "variable_name": "df",
              "summary": "{\n  \"name\": \"df\",\n  \"rows\": 1000,\n  \"fields\": [\n    {\n      \"column\": \"review\",\n      \"properties\": {\n        \"dtype\": \"string\",\n        \"num_unique_values\": 1000,\n        \"samples\": [\n          \"one of the best ensemble acted films I've ever seen. There isn't much to the plot, but the acting- incredible. You see the characters change ever so subtly, undr the influence of the rented villa in Italy, and love. And happiness. The film casts a mesmerizing spell on you, much as the villa does on all the women. Truly \\\"enchanted\\\".\",\n          \"Written by Oliver Stone and directed by Brian De Palma, SCARFACE paints a picture not easily forgotten. Al Pacino turns in a stunning performance as Tony Montana, a Cuban refugee than becomes a powerful player in the drug world as he ruthlessly runs his self made kingdom of crime in Florida. This gangster flick is harsh, violent, loud, gross, unpleasant and must hold the record for uttering the word \\\"f--k\\\" the most number of times. Almost three hours long, and yes it can get repulsive. A stout hearted constitution keeps you in your seat cheering for the demise of a ruthless crime lord.<br /><br />Also playing interesting characters are Michelle Pfeiffer, Steven Bauer, Robert Loggia, Mary Elizabeth Mastrantonio, F. Murray Abraham and Angel Salazar. Pacino proves to be one of the greatest of his generation. He manages to bring reality to his character that leaves a strong impression. This will not be a movie for everyone for you leave thinking you walked away from a disaster. Is that powerful enough for you? Crime does not pay for long!\",\n          \"What a waste of talent. A very poor, semi-coherent, script cripples this film. Rather unimaginative direction, too. Some VERY faint echoes of _Fargo_ here, but it just doesn't come off.\"\n        ],\n        \"semantic_type\": \"\",\n        \"description\": \"\"\n      }\n    },\n    {\n      \"column\": \"sentiment\",\n      \"properties\": {\n        \"dtype\": \"category\",\n        \"num_unique_values\": 2,\n        \"samples\": [\n          \"negative\",\n          \"positive\"\n        ],\n        \"semantic_type\": \"\",\n        \"description\": \"\"\n      }\n    }\n  ]\n}"
            }
          },
          "metadata": {},
          "execution_count": 20
        }
      ],
      "source": [
        "df = pd.read_csv(\"IMDB-50K-Movie-Review.zip\", sep=\",\", encoding=\"ISO-8859-1\").iloc[:1000,:]\n",
        "df.head(10)"
      ]
    },
    {
      "cell_type": "code",
      "execution_count": 21,
      "metadata": {
        "id": "KqWF_cVfrhOS"
      },
      "outputs": [],
      "source": [
        "#Calling our preprocessing functions to clean the reviews (caution, this step can take some time)\n",
        "X= df['review'].apply(NLP_preprocessing_pipeline)"
      ]
    },
    {
      "cell_type": "code",
      "execution_count": 23,
      "metadata": {
        "id": "raJliy70rhOS"
      },
      "outputs": [],
      "source": [
        "#Map y to integer format:\n",
        "y = df['sentiment'].map({'positive':1,'negative':0}).values   #map text-based class labels to numbers\n",
        "Xclean_train, Xclean_test, y_train, y_test = train_test_split(X, y, test_size=0.2, random_state=5)  #data partitioning"
      ]
    },
    {
      "cell_type": "markdown",
      "metadata": {
        "id": "FqoyLCqNrhOT"
      },
      "source": [
        "## **3. Frequency-based Feature Creation (Bag-of-Words) for Text Classification** <br>(2. Exercise)<br>\n",
        "- extract frequency-based features from your training and test sets using two alternative techniques: `TfidfVectorizer` (https://scikit-learn.org/stable/modules/generated/sklearn.feature_extraction.text.TfidfVectorizer.html) and `CountVectorizer` (https://scikit-learn.org/stable/modules/generated/sklearn.feature_extraction.text.CountVectorizer.html#sklearn.feature_extraction.text.CountVectorizer). Both classes are available in the `sklearn` library. Similar to data preprocessing in tabular datasets, you will call the function `fit_transform()` to extract frequency features on the training set, whereas you will apply the function `transform()` to your test set. Also, since you have already applied your custom preprocessing function to the moview reviews dataset, you can pass a dummy function as an argument to the input parameters  `tokenizer` and `preprocessor` of `TfidfVectorizer` and `CountVectorizer`. In this way, the vectorizers would not clean the data, but would only extract frequency-based features.\n",
        "- train and test the following algorithms on the two resulting feature spaces: Logistic Regression and XGBClassifier\n",
        "- evaluate the predictions on the test set in terms of the AUC, recall, and precision, and store all results in a single pandas dataframe."
      ]
    },
    {
      "cell_type": "code",
      "execution_count": 40,
      "metadata": {
        "id": "Y6yhz0nArhOT"
      },
      "outputs": [],
      "source": [
        "def dummy_fun(doc):\n",
        "    return doc\n",
        "\n",
        "tfidf_vectorizer = TfidfVectorizer(\n",
        "    analyzer = 'word',\n",
        "    tokenizer = dummy_fun,\n",
        "    preprocessor = dummy_fun,\n",
        "    token_pattern = None)\n",
        "\n",
        "#TFIDF Feature Extraction:\n",
        "reviews_clean_tfidf_tr = tfidf_vectorizer.fit_transform(Xclean_train)\n",
        "reviews_clean_tfidf_ts = tfidf_vectorizer.transform(Xclean_test)\n",
        "\n",
        "#CountVectorizer Feature Extraction:\n",
        "count_vectorizer = CountVectorizer(\n",
        "    analyzer = 'word',\n",
        "    tokenizer= dummy_fun,\n",
        "    preprocessor=dummy_fun,\n",
        "    token_pattern = None\n",
        ")\n",
        "\n",
        "reviews_clean_count_tr = count_vectorizer.fit_transform(Xclean_train)\n",
        "reviews_clean_count_ts = count_vectorizer.transform(Xclean_test)\n",
        "\n",
        "#An alternative way of preprocessing the data with TfidfVectorizer and CountVectorizer\n",
        "#would be to use the custom preprocessing function as an input parameter to the vectorizers.\n",
        "#Since the function performs tokenization, you would pass NLP_preprocessing_pipeline as an input only to\n",
        "#the preprocessor parameter, and you will keep tokenizer = dummy_fun. This would essentially do the same\n",
        "#as you have done before: the custom NLP pipeline function would be applied to each row of the movie reviews dataset.\n",
        "#First, you would split the data into train and test subsets, and then you would apply the vectorizers, e.g:\n",
        "#TFIDF Feature Extraction:\n",
        "#reviews_clean_tfidf_tr = tfidf_vectorizer.fit_transform(Xclean_train)"
      ]
    },
    {
      "cell_type": "code",
      "execution_count": null,
      "metadata": {
        "id": "u3eTlYSGrhOU"
      },
      "outputs": [],
      "source": [
        "predictions_results_frame=[]\n",
        "\n",
        "xgbc=XGBClassifier()\n",
        "#TFIDF features:\n",
        "...\n",
        "\n",
        "#Count features:\n",
        "...\n",
        "\n",
        "\n",
        "logit=LogisticRegression()\n",
        "#TFIDF features:\n",
        "...\n",
        "\n",
        "#Count features:\n",
        "...\n",
        "\n",
        "#Append results to predictions_results_frame:\n",
        "\n",
        "#Put multidimensional list in pandas df:\n",
        "results_overview=pd.DataFrame(np.around(np.array(predictions_results_frame),3),columns=[...],index=[...])"
      ]
    },
    {
      "cell_type": "code",
      "execution_count": null,
      "metadata": {
        "id": "2vIbYfvkrhOV"
      },
      "outputs": [],
      "source": [
        "results_overview"
      ]
    },
    {
      "cell_type": "code",
      "execution_count": null,
      "metadata": {
        "id": "79qlwDABrhOV"
      },
      "outputs": [],
      "source": []
    }
  ],
  "metadata": {
    "interpreter": {
      "hash": "e2c68f0abcf3705a60d2a1ddd11382db992c60d9e301bdf771b0d9399403a061"
    },
    "kernelspec": {
      "display_name": "Python 3 (ipykernel)",
      "language": "python",
      "name": "python3"
    },
    "language_info": {
      "codemirror_mode": {
        "name": "ipython",
        "version": 3
      },
      "file_extension": ".py",
      "mimetype": "text/x-python",
      "name": "python",
      "nbconvert_exporter": "python",
      "pygments_lexer": "ipython3",
      "version": "3.9.13"
    },
    "colab": {
      "provenance": []
    }
  },
  "nbformat": 4,
  "nbformat_minor": 0
}